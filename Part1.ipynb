{
 "cells": [
  {
   "cell_type": "code",
   "execution_count": 219,
   "metadata": {
    "collapsed": false
   },
   "outputs": [],
   "source": [
    "%matplotlib inline\n",
    "import pandas as pd\n"
   ]
  },
  {
   "cell_type": "code",
   "execution_count": 27,
   "metadata": {
    "collapsed": false
   },
   "outputs": [
    {
     "data": {
      "text/html": [
       "<style>body {\n",
       "    margin: 0;\n",
       "    font-family: Helvetica;\n",
       "}\n",
       "table.dataframe {\n",
       "    border-collapse: collapse;\n",
       "    border: none;\n",
       "}\n",
       "table.dataframe tr {\n",
       "    border: none;\n",
       "}\n",
       "table.dataframe td, table.dataframe th {\n",
       "    margin: 0;\n",
       "    border: 1px solid white;\n",
       "    padding-left: 0.25em;\n",
       "    padding-right: 0.25em;\n",
       "}\n",
       "table.dataframe th:not(:empty) {\n",
       "    background-color: #fec;\n",
       "    text-align: left;\n",
       "    font-weight: normal;\n",
       "}\n",
       "table.dataframe tr:nth-child(2) th:empty {\n",
       "    border-left: none;\n",
       "    border-right: 1px dashed #888;\n",
       "}\n",
       "table.dataframe td {\n",
       "    border: 2px solid #ccf;\n",
       "    background-color: #f4f4ff;\n",
       "}\n",
       "h3 {\n",
       "    color: white;\n",
       "    background-color: black;\n",
       "    padding: 0.5em;\n",
       "}\n",
       "</style>"
      ],
      "text/plain": [
       "<IPython.core.display.HTML object>"
      ]
     },
     "execution_count": 27,
     "metadata": {},
     "output_type": "execute_result"
    }
   ],
   "source": [
    "from IPython.core.display import HTML\n",
    "css = open('style-table.css').read() + open('style-notebook.css').read()\n",
    "HTML('<style>{}</style>'.format(css))"
   ]
  },
  {
   "cell_type": "code",
   "execution_count": 36,
   "metadata": {
    "collapsed": false
   },
   "outputs": [
    {
     "name": "stdout",
     "output_type": "stream",
     "text": [
      "Wall time: 0 ns\n"
     ]
    },
    {
     "data": {
      "text/html": [
       "<div>\n",
       "<table border=\"1\" class=\"dataframe\">\n",
       "  <thead>\n",
       "    <tr style=\"text-align: right;\">\n",
       "      <th></th>\n",
       "      <th>title</th>\n",
       "      <th>year</th>\n",
       "    </tr>\n",
       "  </thead>\n",
       "  <tbody>\n",
       "    <tr>\n",
       "      <th>223494</th>\n",
       "      <td>Faerie!</td>\n",
       "      <td>2012</td>\n",
       "    </tr>\n",
       "    <tr>\n",
       "      <th>223495</th>\n",
       "      <td>Ruamphon khon luktung ngoen lan</td>\n",
       "      <td>2013</td>\n",
       "    </tr>\n",
       "    <tr>\n",
       "      <th>223496</th>\n",
       "      <td>Take a Ride</td>\n",
       "      <td>2016</td>\n",
       "    </tr>\n",
       "    <tr>\n",
       "      <th>223497</th>\n",
       "      <td>The Butterfly God</td>\n",
       "      <td>2016</td>\n",
       "    </tr>\n",
       "    <tr>\n",
       "      <th>223498</th>\n",
       "      <td>Kiseki no ringo</td>\n",
       "      <td>2013</td>\n",
       "    </tr>\n",
       "  </tbody>\n",
       "</table>\n",
       "</div>"
      ],
      "text/plain": [
       "                                  title  year\n",
       "223494                          Faerie!  2012\n",
       "223495  Ruamphon khon luktung ngoen lan  2013\n",
       "223496                      Take a Ride  2016\n",
       "223497                The Butterfly God  2016\n",
       "223498                  Kiseki no ringo  2013"
      ]
     },
     "execution_count": 36,
     "metadata": {},
     "output_type": "execute_result"
    }
   ],
   "source": [
    "%time # %%time shows execution time >> no data shown << %time shows 0ns >> data shown <<\n",
    "\n",
    "titles = pd.DataFrame.from_csv('data/titles.csv', index_col=None, encoding = 'utf-8') \n",
    "titles.head()"
   ]
  },
  {
   "cell_type": "code",
   "execution_count": 57,
   "metadata": {
    "collapsed": false
   },
   "outputs": [
    {
     "name": "stdout",
     "output_type": "stream",
     "text": [
      "Wall time: 0 ns\n"
     ]
    },
    {
     "data": {
      "text/html": [
       "<div>\n",
       "<table border=\"1\" class=\"dataframe\">\n",
       "  <thead>\n",
       "    <tr style=\"text-align: right;\">\n",
       "      <th></th>\n",
       "      <th>title</th>\n",
       "      <th>year</th>\n",
       "      <th>name</th>\n",
       "      <th>type</th>\n",
       "      <th>character</th>\n",
       "      <th>n</th>\n",
       "    </tr>\n",
       "  </thead>\n",
       "  <tbody>\n",
       "    <tr>\n",
       "      <th>0</th>\n",
       "      <td>Suuri illusioni</td>\n",
       "      <td>1985</td>\n",
       "      <td>Homo $</td>\n",
       "      <td>actor</td>\n",
       "      <td>Guests</td>\n",
       "      <td>22.0</td>\n",
       "    </tr>\n",
       "    <tr>\n",
       "      <th>1</th>\n",
       "      <td>Battle of the Sexes</td>\n",
       "      <td>2017</td>\n",
       "      <td>$hutter</td>\n",
       "      <td>actor</td>\n",
       "      <td>Bobby Riggs Fan</td>\n",
       "      <td>10.0</td>\n",
       "    </tr>\n",
       "    <tr>\n",
       "      <th>2</th>\n",
       "      <td>Secret in Their Eyes</td>\n",
       "      <td>2015</td>\n",
       "      <td>$hutter</td>\n",
       "      <td>actor</td>\n",
       "      <td>2002 Dodger Fan</td>\n",
       "      <td>NaN</td>\n",
       "    </tr>\n",
       "    <tr>\n",
       "      <th>3</th>\n",
       "      <td>Steve Jobs</td>\n",
       "      <td>2015</td>\n",
       "      <td>$hutter</td>\n",
       "      <td>actor</td>\n",
       "      <td>1988 Opera House Patron</td>\n",
       "      <td>NaN</td>\n",
       "    </tr>\n",
       "    <tr>\n",
       "      <th>4</th>\n",
       "      <td>Straight Outta Compton</td>\n",
       "      <td>2015</td>\n",
       "      <td>$hutter</td>\n",
       "      <td>actor</td>\n",
       "      <td>Club Patron</td>\n",
       "      <td>NaN</td>\n",
       "    </tr>\n",
       "    <tr>\n",
       "      <th>5</th>\n",
       "      <td>Straight Outta Compton</td>\n",
       "      <td>2015</td>\n",
       "      <td>$hutter</td>\n",
       "      <td>actor</td>\n",
       "      <td>Dopeman</td>\n",
       "      <td>NaN</td>\n",
       "    </tr>\n",
       "    <tr>\n",
       "      <th>6</th>\n",
       "      <td>For Thy Love 2</td>\n",
       "      <td>2009</td>\n",
       "      <td>Bee Moe $lim</td>\n",
       "      <td>actor</td>\n",
       "      <td>Thug 1</td>\n",
       "      <td>NaN</td>\n",
       "    </tr>\n",
       "    <tr>\n",
       "      <th>7</th>\n",
       "      <td>Desire (III)</td>\n",
       "      <td>2014</td>\n",
       "      <td>Syaiful 'Ariffin</td>\n",
       "      <td>actor</td>\n",
       "      <td>Actor Playing Eteocles from 'Antigone'</td>\n",
       "      <td>NaN</td>\n",
       "    </tr>\n",
       "    <tr>\n",
       "      <th>8</th>\n",
       "      <td>When the Man Went South</td>\n",
       "      <td>2014</td>\n",
       "      <td>Taipaleti 'Atu'ake</td>\n",
       "      <td>actor</td>\n",
       "      <td>Two Palms - Ua'i Paame</td>\n",
       "      <td>8.0</td>\n",
       "    </tr>\n",
       "    <tr>\n",
       "      <th>9</th>\n",
       "      <td>Little Angel (Angelita)</td>\n",
       "      <td>2015</td>\n",
       "      <td>Michael 'babeepower' Viera</td>\n",
       "      <td>actor</td>\n",
       "      <td>Chico</td>\n",
       "      <td>9.0</td>\n",
       "    </tr>\n",
       "  </tbody>\n",
       "</table>\n",
       "</div>"
      ],
      "text/plain": [
       "                     title  year                        name   type  \\\n",
       "0          Suuri illusioni  1985                      Homo $  actor   \n",
       "1      Battle of the Sexes  2017                     $hutter  actor   \n",
       "2     Secret in Their Eyes  2015                     $hutter  actor   \n",
       "3               Steve Jobs  2015                     $hutter  actor   \n",
       "4   Straight Outta Compton  2015                     $hutter  actor   \n",
       "5   Straight Outta Compton  2015                     $hutter  actor   \n",
       "6           For Thy Love 2  2009                Bee Moe $lim  actor   \n",
       "7             Desire (III)  2014            Syaiful 'Ariffin  actor   \n",
       "8  When the Man Went South  2014          Taipaleti 'Atu'ake  actor   \n",
       "9  Little Angel (Angelita)  2015  Michael 'babeepower' Viera  actor   \n",
       "\n",
       "                                character     n  \n",
       "0                                  Guests  22.0  \n",
       "1                         Bobby Riggs Fan  10.0  \n",
       "2                         2002 Dodger Fan   NaN  \n",
       "3                 1988 Opera House Patron   NaN  \n",
       "4                             Club Patron   NaN  \n",
       "5                                 Dopeman   NaN  \n",
       "6                                  Thug 1   NaN  \n",
       "7  Actor Playing Eteocles from 'Antigone'   NaN  \n",
       "8                  Two Palms - Ua'i Paame   8.0  \n",
       "9                                   Chico   9.0  "
      ]
     },
     "execution_count": 57,
     "metadata": {},
     "output_type": "execute_result"
    }
   ],
   "source": [
    "%time # Same as for titles\n",
    "\n",
    "cast = pd.DataFrame.from_csv('data/cast.csv', index_col=None, encoding='utf-8') # encoding = 'utf-8' >> F?lix 'El Gato' <<\n",
    "cast.head(10)"
   ]
  },
  {
   "cell_type": "code",
   "execution_count": 68,
   "metadata": {
    "collapsed": false
   },
   "outputs": [
    {
     "name": "stdout",
     "output_type": "stream",
     "text": [
      "Cast`s length is 3475509\n",
      "Titles` length is 223499\n"
     ]
    }
   ],
   "source": [
    "print(\"Cast`s length is \" + str(len(cast)))\n",
    "print(\"Titles` length is \" + str(len(titles)))"
   ]
  },
  {
   "cell_type": "markdown",
   "metadata": {
    "collapsed": true
   },
   "source": [
    "### How many movies are listed in the titles dataframe?"
   ]
  },
  {
   "cell_type": "code",
   "execution_count": 62,
   "metadata": {
    "collapsed": false
   },
   "outputs": [
    {
     "name": "stdout",
     "output_type": "stream",
     "text": [
      "223499 movies are listed in the titles DF\n"
     ]
    }
   ],
   "source": [
    "h = titles\n",
    "moviesNum = h['title'].count() \n",
    "print(str(moviesNum) + \" movies are listed in the titles DF\")"
   ]
  },
  {
   "cell_type": "code",
   "execution_count": null,
   "metadata": {
    "collapsed": true
   },
   "outputs": [],
   "source": []
  },
  {
   "cell_type": "markdown",
   "metadata": {
    "collapsed": true
   },
   "source": [
    "### What are the earliest two films listed in the titles dataframe?"
   ]
  },
  {
   "cell_type": "code",
   "execution_count": 98,
   "metadata": {
    "collapsed": false
   },
   "outputs": [
    {
     "data": {
      "text/plain": [
       "count    223499.000000\n",
       "mean       1985.119423\n",
       "std          29.331831\n",
       "min        1894.000000\n",
       "25%        1966.000000\n",
       "50%        1994.000000\n",
       "75%        2010.000000\n",
       "max        2023.000000\n",
       "Name: year, dtype: float64"
      ]
     },
     "execution_count": 98,
     "metadata": {},
     "output_type": "execute_result"
    }
   ],
   "source": [
    "e = h['year']\n",
    "stats = e.describe()\n",
    "stats # Stats show the min year value is 1894"
   ]
  },
  {
   "cell_type": "code",
   "execution_count": 99,
   "metadata": {
    "collapsed": false
   },
   "outputs": [
    {
     "data": {
      "text/html": [
       "<div>\n",
       "<table border=\"1\" class=\"dataframe\">\n",
       "  <thead>\n",
       "    <tr style=\"text-align: right;\">\n",
       "      <th></th>\n",
       "      <th>title</th>\n",
       "      <th>year</th>\n",
       "    </tr>\n",
       "  </thead>\n",
       "  <tbody>\n",
       "    <tr>\n",
       "      <th>92075</th>\n",
       "      <td>Miss Jerry</td>\n",
       "      <td>1894</td>\n",
       "    </tr>\n",
       "  </tbody>\n",
       "</table>\n",
       "</div>"
      ],
      "text/plain": [
       "            title  year\n",
       "92075  Miss Jerry  1894"
      ]
     },
     "execution_count": 99,
     "metadata": {},
     "output_type": "execute_result"
    }
   ],
   "source": [
    "# Double check if 1894 is the min value in year column\n",
    "checkFilms = h[h.year <= 1894]\n",
    "checkFilms"
   ]
  },
  {
   "cell_type": "code",
   "execution_count": 114,
   "metadata": {
    "collapsed": false
   },
   "outputs": [
    {
     "data": {
      "text/html": [
       "<div>\n",
       "<table border=\"1\" class=\"dataframe\">\n",
       "  <thead>\n",
       "    <tr style=\"text-align: right;\">\n",
       "      <th></th>\n",
       "      <th>title</th>\n",
       "      <th>year</th>\n",
       "    </tr>\n",
       "  </thead>\n",
       "  <tbody>\n",
       "    <tr>\n",
       "      <th>92075</th>\n",
       "      <td>Miss Jerry</td>\n",
       "      <td>1894</td>\n",
       "    </tr>\n",
       "    <tr>\n",
       "      <th>92642</th>\n",
       "      <td>Reproduction of the Corbett and Jeffries Fight</td>\n",
       "      <td>1899</td>\n",
       "    </tr>\n",
       "    <tr>\n",
       "      <th>55869</th>\n",
       "      <td>Soldiers of the Cross</td>\n",
       "      <td>1900</td>\n",
       "    </tr>\n",
       "    <tr>\n",
       "      <th>63373</th>\n",
       "      <td>Pierrot's Problem, or How to Make a Fat Wife O...</td>\n",
       "      <td>1900</td>\n",
       "    </tr>\n",
       "    <tr>\n",
       "      <th>88019</th>\n",
       "      <td>Family Troubles (II)</td>\n",
       "      <td>1900</td>\n",
       "    </tr>\n",
       "    <tr>\n",
       "      <th>141349</th>\n",
       "      <td>Trouble in Hogan's Alley</td>\n",
       "      <td>1900</td>\n",
       "    </tr>\n",
       "  </tbody>\n",
       "</table>\n",
       "</div>"
      ],
      "text/plain": [
       "                                                    title  year\n",
       "92075                                          Miss Jerry  1894\n",
       "92642      Reproduction of the Corbett and Jeffries Fight  1899\n",
       "55869                               Soldiers of the Cross  1900\n",
       "63373   Pierrot's Problem, or How to Make a Fat Wife O...  1900\n",
       "88019                                Family Troubles (II)  1900\n",
       "141349                           Trouble in Hogan's Alley  1900"
      ]
     },
     "execution_count": 114,
     "metadata": {},
     "output_type": "execute_result"
    }
   ],
   "source": [
    "earlyFilms = h[h.year <= 1900].sort_values('year')\n",
    "earlyFilms"
   ]
  },
  {
   "cell_type": "code",
   "execution_count": 106,
   "metadata": {
    "collapsed": false
   },
   "outputs": [
    {
     "name": "stdout",
     "output_type": "stream",
     "text": [
      "The earliest 2 films are: Miss Jerry and Reproduction of the Corbett and Jeffries Fight\n"
     ]
    }
   ],
   "source": [
    "print(\"The earliest 2 films are: Miss Jerry and Reproduction of the Corbett and Jeffries Fight\")"
   ]
  },
  {
   "cell_type": "markdown",
   "metadata": {
    "collapsed": true
   },
   "source": [
    "### How many movies have the title \"Hamlet\"?"
   ]
  },
  {
   "cell_type": "code",
   "execution_count": 220,
   "metadata": {
    "collapsed": false
   },
   "outputs": [
    {
     "data": {
      "text/html": [
       "<div>\n",
       "<table border=\"1\" class=\"dataframe\">\n",
       "  <thead>\n",
       "    <tr style=\"text-align: right;\">\n",
       "      <th></th>\n",
       "      <th>title</th>\n",
       "      <th>year</th>\n",
       "    </tr>\n",
       "  </thead>\n",
       "  <tbody>\n",
       "    <tr>\n",
       "      <th>144946</th>\n",
       "      <td>Hamlet</td>\n",
       "      <td>1910</td>\n",
       "    </tr>\n",
       "    <tr>\n",
       "      <th>147374</th>\n",
       "      <td>Hamlet</td>\n",
       "      <td>1911</td>\n",
       "    </tr>\n",
       "    <tr>\n",
       "      <th>191304</th>\n",
       "      <td>Hamlet</td>\n",
       "      <td>1913</td>\n",
       "    </tr>\n",
       "    <tr>\n",
       "      <th>169434</th>\n",
       "      <td>Hamlet</td>\n",
       "      <td>1921</td>\n",
       "    </tr>\n",
       "    <tr>\n",
       "      <th>38817</th>\n",
       "      <td>Hamlet</td>\n",
       "      <td>1948</td>\n",
       "    </tr>\n",
       "  </tbody>\n",
       "</table>\n",
       "</div>"
      ],
      "text/plain": [
       "         title  year\n",
       "144946  Hamlet  1910\n",
       "147374  Hamlet  1911\n",
       "191304  Hamlet  1913\n",
       "169434  Hamlet  1921\n",
       "38817   Hamlet  1948"
      ]
     },
     "execution_count": 220,
     "metadata": {},
     "output_type": "execute_result"
    }
   ],
   "source": [
    "t = titles\n",
    "hamletNum = t[t.title == 'Hamlet'].sort_values('year')\n",
    "hamletNum.head()"
   ]
  },
  {
   "cell_type": "code",
   "execution_count": 137,
   "metadata": {
    "collapsed": false
   },
   "outputs": [
    {
     "name": "stdout",
     "output_type": "stream",
     "text": [
      "'Hamlet' title appears in 19 movies\n"
     ]
    }
   ],
   "source": [
    "print (\"'Hamlet' title appears in \" + str(hamletNum.title.count()) + \" movies\")"
   ]
  },
  {
   "cell_type": "markdown",
   "metadata": {
    "collapsed": true
   },
   "source": [
    "### How many movies are titled \"North by Northwest\"?"
   ]
  },
  {
   "cell_type": "code",
   "execution_count": 140,
   "metadata": {
    "collapsed": false
   },
   "outputs": [
    {
     "data": {
      "text/html": [
       "<div>\n",
       "<table border=\"1\" class=\"dataframe\">\n",
       "  <thead>\n",
       "    <tr style=\"text-align: right;\">\n",
       "      <th></th>\n",
       "      <th>title</th>\n",
       "      <th>year</th>\n",
       "    </tr>\n",
       "  </thead>\n",
       "  <tbody>\n",
       "    <tr>\n",
       "      <th>118574</th>\n",
       "      <td>North by Northwest</td>\n",
       "      <td>1959</td>\n",
       "    </tr>\n",
       "  </tbody>\n",
       "</table>\n",
       "</div>"
      ],
      "text/plain": [
       "                     title  year\n",
       "118574  North by Northwest  1959"
      ]
     },
     "execution_count": 140,
     "metadata": {},
     "output_type": "execute_result"
    }
   ],
   "source": [
    "NbN = t[t.title == 'North by Northwest']\n",
    "NbN # 1 movie only"
   ]
  },
  {
   "cell_type": "code",
   "execution_count": null,
   "metadata": {
    "collapsed": true
   },
   "outputs": [],
   "source": []
  },
  {
   "cell_type": "markdown",
   "metadata": {
    "collapsed": true
   },
   "source": [
    "### When was the first movie titled \"Hamlet\" made?"
   ]
  },
  {
   "cell_type": "code",
   "execution_count": 152,
   "metadata": {
    "collapsed": false
   },
   "outputs": [
    {
     "data": {
      "text/plain": [
       "144946    1910\n",
       "147374    1911\n",
       "191304    1913\n",
       "169434    1921\n",
       "38817     1948\n",
       "Name: year, dtype: int64"
      ]
     },
     "execution_count": 152,
     "metadata": {},
     "output_type": "execute_result"
    }
   ],
   "source": [
    "hamletNum = t[t.title == 'Hamlet'].year.sort_values().head()\n",
    "hamletNum # First \"Hamlet\" movie was made in 1910"
   ]
  },
  {
   "cell_type": "code",
   "execution_count": null,
   "metadata": {
    "collapsed": true
   },
   "outputs": [],
   "source": []
  },
  {
   "cell_type": "markdown",
   "metadata": {
    "collapsed": true
   },
   "source": [
    "### List all of the \"Treasure Island\" movies from earliest to most recent."
   ]
  },
  {
   "cell_type": "code",
   "execution_count": 160,
   "metadata": {
    "collapsed": false
   },
   "outputs": [
    {
     "data": {
      "text/html": [
       "<div>\n",
       "<table border=\"1\" class=\"dataframe\">\n",
       "  <thead>\n",
       "    <tr style=\"text-align: right;\">\n",
       "      <th></th>\n",
       "      <th>title</th>\n",
       "      <th>year</th>\n",
       "    </tr>\n",
       "  </thead>\n",
       "  <tbody>\n",
       "    <tr>\n",
       "      <th>97695</th>\n",
       "      <td>Treasure Island</td>\n",
       "      <td>1918</td>\n",
       "    </tr>\n",
       "    <tr>\n",
       "      <th>75269</th>\n",
       "      <td>Treasure Island</td>\n",
       "      <td>1920</td>\n",
       "    </tr>\n",
       "    <tr>\n",
       "      <th>103876</th>\n",
       "      <td>Treasure Island</td>\n",
       "      <td>1934</td>\n",
       "    </tr>\n",
       "    <tr>\n",
       "      <th>222971</th>\n",
       "      <td>Treasure Island</td>\n",
       "      <td>1950</td>\n",
       "    </tr>\n",
       "    <tr>\n",
       "      <th>2054</th>\n",
       "      <td>Treasure Island</td>\n",
       "      <td>1972</td>\n",
       "    </tr>\n",
       "    <tr>\n",
       "      <th>68193</th>\n",
       "      <td>Treasure Island</td>\n",
       "      <td>1973</td>\n",
       "    </tr>\n",
       "    <tr>\n",
       "      <th>56361</th>\n",
       "      <td>Treasure Island</td>\n",
       "      <td>1985</td>\n",
       "    </tr>\n",
       "    <tr>\n",
       "      <th>164172</th>\n",
       "      <td>Treasure Island</td>\n",
       "      <td>1999</td>\n",
       "    </tr>\n",
       "  </tbody>\n",
       "</table>\n",
       "</div>"
      ],
      "text/plain": [
       "                  title  year\n",
       "97695   Treasure Island  1918\n",
       "75269   Treasure Island  1920\n",
       "103876  Treasure Island  1934\n",
       "222971  Treasure Island  1950\n",
       "2054    Treasure Island  1972\n",
       "68193   Treasure Island  1973\n",
       "56361   Treasure Island  1985\n",
       "164172  Treasure Island  1999"
      ]
     },
     "execution_count": 160,
     "metadata": {},
     "output_type": "execute_result"
    }
   ],
   "source": [
    "trIs = t[t.title == 'Treasure Island'].sort_values('year')\n",
    "trIs # Erlies movie made in 1918 the most recent one in 1999"
   ]
  },
  {
   "cell_type": "code",
   "execution_count": null,
   "metadata": {
    "collapsed": true
   },
   "outputs": [],
   "source": []
  },
  {
   "cell_type": "markdown",
   "metadata": {
    "collapsed": true
   },
   "source": [
    "### How many movies were made in the year 1950?"
   ]
  },
  {
   "cell_type": "code",
   "execution_count": 403,
   "metadata": {
    "collapsed": false
   },
   "outputs": [
    {
     "data": {
      "text/html": [
       "<div>\n",
       "<table border=\"1\" class=\"dataframe\">\n",
       "  <thead>\n",
       "    <tr style=\"text-align: right;\">\n",
       "      <th></th>\n",
       "      <th>title</th>\n",
       "      <th>year</th>\n",
       "    </tr>\n",
       "  </thead>\n",
       "  <tbody>\n",
       "    <tr>\n",
       "      <th>994</th>\n",
       "      <td>South Sea Sinner</td>\n",
       "      <td>1950</td>\n",
       "    </tr>\n",
       "    <tr>\n",
       "      <th>1170</th>\n",
       "      <td>Le tampon du capiston</td>\n",
       "      <td>1950</td>\n",
       "    </tr>\n",
       "    <tr>\n",
       "      <th>1453</th>\n",
       "      <td>Beqarar</td>\n",
       "      <td>1950</td>\n",
       "    </tr>\n",
       "    <tr>\n",
       "      <th>1672</th>\n",
       "      <td>Atto di accusa</td>\n",
       "      <td>1950</td>\n",
       "    </tr>\n",
       "    <tr>\n",
       "      <th>1775</th>\n",
       "      <td>Aankhen</td>\n",
       "      <td>1950</td>\n",
       "    </tr>\n",
       "    <tr>\n",
       "      <th>1887</th>\n",
       "      <td>Xin cha hua nu</td>\n",
       "      <td>1950</td>\n",
       "    </tr>\n",
       "    <tr>\n",
       "      <th>2086</th>\n",
       "      <td>The Jackie Robinson Story</td>\n",
       "      <td>1950</td>\n",
       "    </tr>\n",
       "    <tr>\n",
       "      <th>2128</th>\n",
       "      <td>Sensation im Savoy</td>\n",
       "      <td>1950</td>\n",
       "    </tr>\n",
       "    <tr>\n",
       "      <th>2287</th>\n",
       "      <td>Katka</td>\n",
       "      <td>1950</td>\n",
       "    </tr>\n",
       "    <tr>\n",
       "      <th>2365</th>\n",
       "      <td>La honradez de la cerradura</td>\n",
       "      <td>1950</td>\n",
       "    </tr>\n",
       "    <tr>\n",
       "      <th>2783</th>\n",
       "      <td>Sigillo rosso</td>\n",
       "      <td>1950</td>\n",
       "    </tr>\n",
       "    <tr>\n",
       "      <th>3023</th>\n",
       "      <td>Jan Pahchan</td>\n",
       "      <td>1950</td>\n",
       "    </tr>\n",
       "    <tr>\n",
       "      <th>3029</th>\n",
       "      <td>Tire au flanc</td>\n",
       "      <td>1950</td>\n",
       "    </tr>\n",
       "    <tr>\n",
       "      <th>3051</th>\n",
       "      <td>Paramanandayya Shishyula Katha</td>\n",
       "      <td>1950</td>\n",
       "    </tr>\n",
       "    <tr>\n",
       "      <th>3555</th>\n",
       "      <td>What the Butler Saw</td>\n",
       "      <td>1950</td>\n",
       "    </tr>\n",
       "    <tr>\n",
       "      <th>3742</th>\n",
       "      <td>The Astonished Heart</td>\n",
       "      <td>1950</td>\n",
       "    </tr>\n",
       "    <tr>\n",
       "      <th>3781</th>\n",
       "      <td>Buccaneer's Girl</td>\n",
       "      <td>1950</td>\n",
       "    </tr>\n",
       "    <tr>\n",
       "      <th>4258</th>\n",
       "      <td>Zeinab</td>\n",
       "      <td>1950</td>\n",
       "    </tr>\n",
       "    <tr>\n",
       "      <th>4630</th>\n",
       "      <td>The Flying Saucer</td>\n",
       "      <td>1950</td>\n",
       "    </tr>\n",
       "    <tr>\n",
       "      <th>4959</th>\n",
       "      <td>Lockende Gefahr</td>\n",
       "      <td>1950</td>\n",
       "    </tr>\n",
       "    <tr>\n",
       "      <th>5001</th>\n",
       "      <td>Mademoiselle Josette ma femme</td>\n",
       "      <td>1950</td>\n",
       "    </tr>\n",
       "    <tr>\n",
       "      <th>5100</th>\n",
       "      <td>Velikaya sila</td>\n",
       "      <td>1950</td>\n",
       "    </tr>\n",
       "    <tr>\n",
       "      <th>5437</th>\n",
       "      <td>Aventurera</td>\n",
       "      <td>1950</td>\n",
       "    </tr>\n",
       "    <tr>\n",
       "      <th>5710</th>\n",
       "      <td>Vendetta en Camargue</td>\n",
       "      <td>1950</td>\n",
       "    </tr>\n",
       "    <tr>\n",
       "      <th>6093</th>\n",
       "      <td>Cronaca di un amore</td>\n",
       "      <td>1950</td>\n",
       "    </tr>\n",
       "    <tr>\n",
       "      <th>6228</th>\n",
       "      <td>Motor Patrol</td>\n",
       "      <td>1950</td>\n",
       "    </tr>\n",
       "    <tr>\n",
       "      <th>6298</th>\n",
       "      <td>Under My Skin</td>\n",
       "      <td>1950</td>\n",
       "    </tr>\n",
       "    <tr>\n",
       "      <th>6626</th>\n",
       "      <td>The Body Said No!</td>\n",
       "      <td>1950</td>\n",
       "    </tr>\n",
       "    <tr>\n",
       "      <th>6844</th>\n",
       "      <td>The Misadventures of Buster Keaton</td>\n",
       "      <td>1950</td>\n",
       "    </tr>\n",
       "    <tr>\n",
       "      <th>6862</th>\n",
       "      <td>The Torch</td>\n",
       "      <td>1950</td>\n",
       "    </tr>\n",
       "    <tr>\n",
       "      <th>...</th>\n",
       "      <td>...</td>\n",
       "      <td>...</td>\n",
       "    </tr>\n",
       "    <tr>\n",
       "      <th>215477</th>\n",
       "      <td>No Place for Jennifer</td>\n",
       "      <td>1950</td>\n",
       "    </tr>\n",
       "    <tr>\n",
       "      <th>216115</th>\n",
       "      <td>Pedro, Pablo, Juan at Jose</td>\n",
       "      <td>1950</td>\n",
       "    </tr>\n",
       "    <tr>\n",
       "      <th>216436</th>\n",
       "      <td>Three Husbands</td>\n",
       "      <td>1950</td>\n",
       "    </tr>\n",
       "    <tr>\n",
       "      <th>216451</th>\n",
       "      <td>Somos Dois</td>\n",
       "      <td>1950</td>\n",
       "    </tr>\n",
       "    <tr>\n",
       "      <th>216559</th>\n",
       "      <td>Dance Hall</td>\n",
       "      <td>1950</td>\n",
       "    </tr>\n",
       "    <tr>\n",
       "      <th>216748</th>\n",
       "      <td>Rookie Fireman</td>\n",
       "      <td>1950</td>\n",
       "    </tr>\n",
       "    <tr>\n",
       "      <th>216960</th>\n",
       "      <td>The Palomino</td>\n",
       "      <td>1950</td>\n",
       "    </tr>\n",
       "    <tr>\n",
       "      <th>217324</th>\n",
       "      <td>Faddija - La legge della vendetta</td>\n",
       "      <td>1950</td>\n",
       "    </tr>\n",
       "    <tr>\n",
       "      <th>217666</th>\n",
       "      <td>Please Believe Me</td>\n",
       "      <td>1950</td>\n",
       "    </tr>\n",
       "    <tr>\n",
       "      <th>217919</th>\n",
       "      <td>Der keusche Adam</td>\n",
       "      <td>1950</td>\n",
       "    </tr>\n",
       "    <tr>\n",
       "      <th>217977</th>\n",
       "      <td>Amour et compagnie</td>\n",
       "      <td>1950</td>\n",
       "    </tr>\n",
       "    <tr>\n",
       "      <th>218339</th>\n",
       "      <td>Mata au hi made</td>\n",
       "      <td>1950</td>\n",
       "    </tr>\n",
       "    <tr>\n",
       "      <th>218794</th>\n",
       "      <td>Short Grass</td>\n",
       "      <td>1950</td>\n",
       "    </tr>\n",
       "    <tr>\n",
       "      <th>218871</th>\n",
       "      <td>Rosauro Castro</td>\n",
       "      <td>1950</td>\n",
       "    </tr>\n",
       "    <tr>\n",
       "      <th>219311</th>\n",
       "      <td>Hostile Country</td>\n",
       "      <td>1950</td>\n",
       "    </tr>\n",
       "    <tr>\n",
       "      <th>219438</th>\n",
       "      <td>The Goldbergs</td>\n",
       "      <td>1950</td>\n",
       "    </tr>\n",
       "    <tr>\n",
       "      <th>219512</th>\n",
       "      <td>Watch the Birdie</td>\n",
       "      <td>1950</td>\n",
       "    </tr>\n",
       "    <tr>\n",
       "      <th>219583</th>\n",
       "      <td>Montana</td>\n",
       "      <td>1950</td>\n",
       "    </tr>\n",
       "    <tr>\n",
       "      <th>219704</th>\n",
       "      <td>Bhai Bahen</td>\n",
       "      <td>1950</td>\n",
       "    </tr>\n",
       "    <tr>\n",
       "      <th>219943</th>\n",
       "      <td>My Friend Irma Goes West</td>\n",
       "      <td>1950</td>\n",
       "    </tr>\n",
       "    <tr>\n",
       "      <th>220577</th>\n",
       "      <td>Crimen en el entreacto</td>\n",
       "      <td>1950</td>\n",
       "    </tr>\n",
       "    <tr>\n",
       "      <th>220758</th>\n",
       "      <td>Lluvia roja</td>\n",
       "      <td>1950</td>\n",
       "    </tr>\n",
       "    <tr>\n",
       "      <th>221025</th>\n",
       "      <td>Vogliamoci bene!</td>\n",
       "      <td>1950</td>\n",
       "    </tr>\n",
       "    <tr>\n",
       "      <th>222161</th>\n",
       "      <td>Paolo e Francesca</td>\n",
       "      <td>1950</td>\n",
       "    </tr>\n",
       "    <tr>\n",
       "      <th>222308</th>\n",
       "      <td>Gemma</td>\n",
       "      <td>1950</td>\n",
       "    </tr>\n",
       "    <tr>\n",
       "      <th>222711</th>\n",
       "      <td>Bayumi effendi</td>\n",
       "      <td>1950</td>\n",
       "    </tr>\n",
       "    <tr>\n",
       "      <th>222934</th>\n",
       "      <td>Surcos de sangre</td>\n",
       "      <td>1950</td>\n",
       "    </tr>\n",
       "    <tr>\n",
       "      <th>222971</th>\n",
       "      <td>Treasure Island</td>\n",
       "      <td>1950</td>\n",
       "    </tr>\n",
       "    <tr>\n",
       "      <th>223018</th>\n",
       "      <td>A Ticket to Tomahawk</td>\n",
       "      <td>1950</td>\n",
       "    </tr>\n",
       "    <tr>\n",
       "      <th>223163</th>\n",
       "      <td>She Shall Have Murder</td>\n",
       "      <td>1950</td>\n",
       "    </tr>\n",
       "  </tbody>\n",
       "</table>\n",
       "<p>1081 rows × 2 columns</p>\n",
       "</div>"
      ],
      "text/plain": [
       "                                     title  year\n",
       "994                       South Sea Sinner  1950\n",
       "1170                 Le tampon du capiston  1950\n",
       "1453                               Beqarar  1950\n",
       "1672                        Atto di accusa  1950\n",
       "1775                               Aankhen  1950\n",
       "1887                        Xin cha hua nu  1950\n",
       "2086             The Jackie Robinson Story  1950\n",
       "2128                    Sensation im Savoy  1950\n",
       "2287                                 Katka  1950\n",
       "2365           La honradez de la cerradura  1950\n",
       "2783                         Sigillo rosso  1950\n",
       "3023                           Jan Pahchan  1950\n",
       "3029                         Tire au flanc  1950\n",
       "3051        Paramanandayya Shishyula Katha  1950\n",
       "3555                   What the Butler Saw  1950\n",
       "3742                  The Astonished Heart  1950\n",
       "3781                      Buccaneer's Girl  1950\n",
       "4258                                Zeinab  1950\n",
       "4630                     The Flying Saucer  1950\n",
       "4959                       Lockende Gefahr  1950\n",
       "5001         Mademoiselle Josette ma femme  1950\n",
       "5100                         Velikaya sila  1950\n",
       "5437                            Aventurera  1950\n",
       "5710                  Vendetta en Camargue  1950\n",
       "6093                   Cronaca di un amore  1950\n",
       "6228                          Motor Patrol  1950\n",
       "6298                         Under My Skin  1950\n",
       "6626                     The Body Said No!  1950\n",
       "6844    The Misadventures of Buster Keaton  1950\n",
       "6862                             The Torch  1950\n",
       "...                                    ...   ...\n",
       "215477               No Place for Jennifer  1950\n",
       "216115          Pedro, Pablo, Juan at Jose  1950\n",
       "216436                      Three Husbands  1950\n",
       "216451                          Somos Dois  1950\n",
       "216559                          Dance Hall  1950\n",
       "216748                      Rookie Fireman  1950\n",
       "216960                        The Palomino  1950\n",
       "217324   Faddija - La legge della vendetta  1950\n",
       "217666                   Please Believe Me  1950\n",
       "217919                    Der keusche Adam  1950\n",
       "217977                  Amour et compagnie  1950\n",
       "218339                     Mata au hi made  1950\n",
       "218794                         Short Grass  1950\n",
       "218871                      Rosauro Castro  1950\n",
       "219311                     Hostile Country  1950\n",
       "219438                       The Goldbergs  1950\n",
       "219512                    Watch the Birdie  1950\n",
       "219583                             Montana  1950\n",
       "219704                          Bhai Bahen  1950\n",
       "219943            My Friend Irma Goes West  1950\n",
       "220577              Crimen en el entreacto  1950\n",
       "220758                         Lluvia roja  1950\n",
       "221025                    Vogliamoci bene!  1950\n",
       "222161                   Paolo e Francesca  1950\n",
       "222308                               Gemma  1950\n",
       "222711                      Bayumi effendi  1950\n",
       "222934                    Surcos de sangre  1950\n",
       "222971                     Treasure Island  1950\n",
       "223018                A Ticket to Tomahawk  1950\n",
       "223163               She Shall Have Murder  1950\n",
       "\n",
       "[1081 rows x 2 columns]"
      ]
     },
     "execution_count": 403,
     "metadata": {},
     "output_type": "execute_result"
    }
   ],
   "source": [
    "hmMovies = t[t.year == 1950]\n",
    "hmMovies.head()"
   ]
  },
  {
   "cell_type": "code",
   "execution_count": 164,
   "metadata": {
    "collapsed": false
   },
   "outputs": [
    {
     "name": "stdout",
     "output_type": "stream",
     "text": [
      "1081 movies were made in 1950\n"
     ]
    }
   ],
   "source": [
    "print (str(hmMovies.year.count()) + \" movies were made in 1950\")"
   ]
  },
  {
   "cell_type": "markdown",
   "metadata": {
    "collapsed": true
   },
   "source": [
    "### How many movies were made in the year 1960?"
   ]
  },
  {
   "cell_type": "code",
   "execution_count": 166,
   "metadata": {
    "collapsed": false
   },
   "outputs": [
    {
     "data": {
      "text/html": [
       "<div>\n",
       "<table border=\"1\" class=\"dataframe\">\n",
       "  <thead>\n",
       "    <tr style=\"text-align: right;\">\n",
       "      <th></th>\n",
       "      <th>title</th>\n",
       "      <th>year</th>\n",
       "    </tr>\n",
       "  </thead>\n",
       "  <tbody>\n",
       "    <tr>\n",
       "      <th>77</th>\n",
       "      <td>Konec cesty</td>\n",
       "      <td>1960</td>\n",
       "    </tr>\n",
       "    <tr>\n",
       "      <th>319</th>\n",
       "      <td>Yantok mindoro</td>\n",
       "      <td>1960</td>\n",
       "    </tr>\n",
       "    <tr>\n",
       "      <th>331</th>\n",
       "      <td>Tirez sur le pianiste</td>\n",
       "      <td>1960</td>\n",
       "    </tr>\n",
       "    <tr>\n",
       "      <th>412</th>\n",
       "      <td>Tarzan the Magnificent</td>\n",
       "      <td>1960</td>\n",
       "    </tr>\n",
       "    <tr>\n",
       "      <th>443</th>\n",
       "      <td>Comanche Station</td>\n",
       "      <td>1960</td>\n",
       "    </tr>\n",
       "  </tbody>\n",
       "</table>\n",
       "</div>"
      ],
      "text/plain": [
       "                      title  year\n",
       "77              Konec cesty  1960\n",
       "319          Yantok mindoro  1960\n",
       "331   Tirez sur le pianiste  1960\n",
       "412  Tarzan the Magnificent  1960\n",
       "443        Comanche Station  1960"
      ]
     },
     "execution_count": 166,
     "metadata": {},
     "output_type": "execute_result"
    }
   ],
   "source": [
    "hmMovies = t[t.year == 1960]\n",
    "hmMovies.head()"
   ]
  },
  {
   "cell_type": "code",
   "execution_count": 167,
   "metadata": {
    "collapsed": false
   },
   "outputs": [
    {
     "name": "stdout",
     "output_type": "stream",
     "text": [
      "1487 movies were made in 1960\n"
     ]
    }
   ],
   "source": [
    "print (str(hmMovies.year.count()) + \" movies were made in 1960\")"
   ]
  },
  {
   "cell_type": "markdown",
   "metadata": {
    "collapsed": true
   },
   "source": [
    "### How many movies were made from 1950 through 1959?"
   ]
  },
  {
   "cell_type": "code",
   "execution_count": 179,
   "metadata": {
    "collapsed": false
   },
   "outputs": [
    {
     "data": {
      "text/html": [
       "<div>\n",
       "<table border=\"1\" class=\"dataframe\">\n",
       "  <thead>\n",
       "    <tr style=\"text-align: right;\">\n",
       "      <th></th>\n",
       "      <th>title</th>\n",
       "      <th>year</th>\n",
       "    </tr>\n",
       "  </thead>\n",
       "  <tbody>\n",
       "    <tr>\n",
       "      <th>55209</th>\n",
       "      <td>Morning Departure</td>\n",
       "      <td>1950</td>\n",
       "    </tr>\n",
       "    <tr>\n",
       "      <th>15415</th>\n",
       "      <td>47 morto che parla</td>\n",
       "      <td>1950</td>\n",
       "    </tr>\n",
       "    <tr>\n",
       "      <th>27668</th>\n",
       "      <td>Der Wallnerbub</td>\n",
       "      <td>1950</td>\n",
       "    </tr>\n",
       "    <tr>\n",
       "      <th>77249</th>\n",
       "      <td>Parmaksiz Salih</td>\n",
       "      <td>1950</td>\n",
       "    </tr>\n",
       "    <tr>\n",
       "      <th>15381</th>\n",
       "      <td>Un homme marche dans la ville</td>\n",
       "      <td>1950</td>\n",
       "    </tr>\n",
       "  </tbody>\n",
       "</table>\n",
       "</div>"
      ],
      "text/plain": [
       "                               title  year\n",
       "55209              Morning Departure  1950\n",
       "15415             47 morto che parla  1950\n",
       "27668                 Der Wallnerbub  1950\n",
       "77249                Parmaksiz Salih  1950\n",
       "15381  Un homme marche dans la ville  1950"
      ]
     },
     "execution_count": 179,
     "metadata": {},
     "output_type": "execute_result"
    }
   ],
   "source": [
    "hmMovies = t[(t.year >=1950) & (t.year <= 1959)].sort_values('year')\n",
    "hmMovies.head()"
   ]
  },
  {
   "cell_type": "code",
   "execution_count": 178,
   "metadata": {
    "collapsed": false
   },
   "outputs": [
    {
     "name": "stdout",
     "output_type": "stream",
     "text": [
      "12340 movies have been made from 1950 through 1959\n"
     ]
    }
   ],
   "source": [
    "print(str(hmMovies.year.count()) + \" movies have been made from 1950 through 1959\")"
   ]
  },
  {
   "cell_type": "markdown",
   "metadata": {
    "collapsed": true
   },
   "source": [
    "### In what years has a movie titled \"Batman\" been released?"
   ]
  },
  {
   "cell_type": "code",
   "execution_count": 182,
   "metadata": {
    "collapsed": false
   },
   "outputs": [
    {
     "data": {
      "text/plain": [
       "10450    1943\n",
       "25657    1989\n",
       "Name: year, dtype: int64"
      ]
     },
     "execution_count": 182,
     "metadata": {},
     "output_type": "execute_result"
    }
   ],
   "source": [
    "BM = h[h.title == 'Batman'].year\n",
    "BM"
   ]
  },
  {
   "cell_type": "code",
   "execution_count": null,
   "metadata": {
    "collapsed": true
   },
   "outputs": [],
   "source": []
  },
  {
   "cell_type": "markdown",
   "metadata": {
    "collapsed": true
   },
   "source": [
    "### How many roles were there in the movie \"Inception\"?"
   ]
  },
  {
   "cell_type": "code",
   "execution_count": 222,
   "metadata": {
    "collapsed": false
   },
   "outputs": [
    {
     "data": {
      "text/html": [
       "<div>\n",
       "<table border=\"1\" class=\"dataframe\">\n",
       "  <thead>\n",
       "    <tr style=\"text-align: right;\">\n",
       "      <th></th>\n",
       "      <th>title</th>\n",
       "      <th>year</th>\n",
       "      <th>name</th>\n",
       "      <th>type</th>\n",
       "      <th>character</th>\n",
       "      <th>n</th>\n",
       "    </tr>\n",
       "  </thead>\n",
       "  <tbody>\n",
       "    <tr>\n",
       "      <th>90392</th>\n",
       "      <td>Inception</td>\n",
       "      <td>2010</td>\n",
       "      <td>Michael (III) August</td>\n",
       "      <td>actor</td>\n",
       "      <td>LAX Passenger</td>\n",
       "      <td>NaN</td>\n",
       "    </tr>\n",
       "    <tr>\n",
       "      <th>137309</th>\n",
       "      <td>Inception</td>\n",
       "      <td>2010</td>\n",
       "      <td>Peter Basham</td>\n",
       "      <td>actor</td>\n",
       "      <td>Fischer's Jet Captain</td>\n",
       "      <td>44.0</td>\n",
       "    </tr>\n",
       "    <tr>\n",
       "      <th>169823</th>\n",
       "      <td>Inception</td>\n",
       "      <td>2010</td>\n",
       "      <td>Tom Berenger</td>\n",
       "      <td>actor</td>\n",
       "      <td>Browning</td>\n",
       "      <td>8.0</td>\n",
       "    </tr>\n",
       "    <tr>\n",
       "      <th>182749</th>\n",
       "      <td>Inception</td>\n",
       "      <td>2010</td>\n",
       "      <td>Ken Bhan</td>\n",
       "      <td>actor</td>\n",
       "      <td>Mombasan Gambler</td>\n",
       "      <td>NaN</td>\n",
       "    </tr>\n",
       "    <tr>\n",
       "      <th>240571</th>\n",
       "      <td>Inception</td>\n",
       "      <td>2010</td>\n",
       "      <td>Virgile Bramly</td>\n",
       "      <td>actor</td>\n",
       "      <td>Bridge Sub Con</td>\n",
       "      <td>29.0</td>\n",
       "    </tr>\n",
       "    <tr>\n",
       "      <th>302890</th>\n",
       "      <td>Inception</td>\n",
       "      <td>2010</td>\n",
       "      <td>Michael Caine</td>\n",
       "      <td>actor</td>\n",
       "      <td>Miles</td>\n",
       "      <td>11.0</td>\n",
       "    </tr>\n",
       "    <tr>\n",
       "      <th>309062</th>\n",
       "      <td>Inception</td>\n",
       "      <td>2010</td>\n",
       "      <td>Earl Cameron</td>\n",
       "      <td>actor</td>\n",
       "      <td>Elderly Bald Man</td>\n",
       "      <td>20.0</td>\n",
       "    </tr>\n",
       "    <tr>\n",
       "      <th>347611</th>\n",
       "      <td>Inception</td>\n",
       "      <td>2010</td>\n",
       "      <td>John Ceallach</td>\n",
       "      <td>actor</td>\n",
       "      <td>LAX Passenger</td>\n",
       "      <td>NaN</td>\n",
       "    </tr>\n",
       "    <tr>\n",
       "      <th>402279</th>\n",
       "      <td>Inception</td>\n",
       "      <td>2010</td>\n",
       "      <td>Nicolas Clerc</td>\n",
       "      <td>actor</td>\n",
       "      <td>Bridge Sub Con</td>\n",
       "      <td>26.0</td>\n",
       "    </tr>\n",
       "    <tr>\n",
       "      <th>412173</th>\n",
       "      <td>Inception</td>\n",
       "      <td>2010</td>\n",
       "      <td>Adam (IV) Cole</td>\n",
       "      <td>actor</td>\n",
       "      <td>Bar Sub Con</td>\n",
       "      <td>34.0</td>\n",
       "    </tr>\n",
       "    <tr>\n",
       "      <th>480456</th>\n",
       "      <td>Inception</td>\n",
       "      <td>2010</td>\n",
       "      <td>Jean-Michel Dagory</td>\n",
       "      <td>actor</td>\n",
       "      <td>Bridge Sub Con</td>\n",
       "      <td>30.0</td>\n",
       "    </tr>\n",
       "    <tr>\n",
       "      <th>548708</th>\n",
       "      <td>Inception</td>\n",
       "      <td>2010</td>\n",
       "      <td>Leonardo DiCaprio</td>\n",
       "      <td>actor</td>\n",
       "      <td>Cobb</td>\n",
       "      <td>1.0</td>\n",
       "    </tr>\n",
       "    <tr>\n",
       "      <th>635851</th>\n",
       "      <td>Inception</td>\n",
       "      <td>2010</td>\n",
       "      <td>Seve Esposito</td>\n",
       "      <td>actor</td>\n",
       "      <td>Italian Gambler</td>\n",
       "      <td>NaN</td>\n",
       "    </tr>\n",
       "    <tr>\n",
       "      <th>641960</th>\n",
       "      <td>Inception</td>\n",
       "      <td>2010</td>\n",
       "      <td>Marcus (II) Everett</td>\n",
       "      <td>actor</td>\n",
       "      <td>Stock Broker</td>\n",
       "      <td>NaN</td>\n",
       "    </tr>\n",
       "    <tr>\n",
       "      <th>657783</th>\n",
       "      <td>Inception</td>\n",
       "      <td>2010</td>\n",
       "      <td>Zachary Christopher Fay</td>\n",
       "      <td>actor</td>\n",
       "      <td>Extra</td>\n",
       "      <td>NaN</td>\n",
       "    </tr>\n",
       "    <tr>\n",
       "      <th>659411</th>\n",
       "      <td>Inception</td>\n",
       "      <td>2010</td>\n",
       "      <td>Russ Fega</td>\n",
       "      <td>actor</td>\n",
       "      <td>Cab Driver</td>\n",
       "      <td>23.0</td>\n",
       "    </tr>\n",
       "    <tr>\n",
       "      <th>685552</th>\n",
       "      <td>Inception</td>\n",
       "      <td>2010</td>\n",
       "      <td>Mark Fleischmann</td>\n",
       "      <td>actor</td>\n",
       "      <td>Penrose Sub Con</td>\n",
       "      <td>32.0</td>\n",
       "    </tr>\n",
       "    <tr>\n",
       "      <th>751244</th>\n",
       "      <td>Inception</td>\n",
       "      <td>2010</td>\n",
       "      <td>Michael Gaston</td>\n",
       "      <td>actor</td>\n",
       "      <td>Immigration Officer</td>\n",
       "      <td>45.0</td>\n",
       "    </tr>\n",
       "    <tr>\n",
       "      <th>755216</th>\n",
       "      <td>Inception</td>\n",
       "      <td>2010</td>\n",
       "      <td>Johnathan Geare</td>\n",
       "      <td>actor</td>\n",
       "      <td>James (3 years)</td>\n",
       "      <td>17.0</td>\n",
       "    </tr>\n",
       "    <tr>\n",
       "      <th>773601</th>\n",
       "      <td>Inception</td>\n",
       "      <td>2010</td>\n",
       "      <td>Carl Gilliard</td>\n",
       "      <td>actor</td>\n",
       "      <td>Lobby Sub Con</td>\n",
       "      <td>40.0</td>\n",
       "    </tr>\n",
       "    <tr>\n",
       "      <th>774818</th>\n",
       "      <td>Inception</td>\n",
       "      <td>2010</td>\n",
       "      <td>Jack Gilroy</td>\n",
       "      <td>actor</td>\n",
       "      <td>Old Cobb</td>\n",
       "      <td>50.0</td>\n",
       "    </tr>\n",
       "    <tr>\n",
       "      <th>777538</th>\n",
       "      <td>Inception</td>\n",
       "      <td>2010</td>\n",
       "      <td>Daniel Girondeaud</td>\n",
       "      <td>actor</td>\n",
       "      <td>Bridge Sub Con</td>\n",
       "      <td>NaN</td>\n",
       "    </tr>\n",
       "    <tr>\n",
       "      <th>799447</th>\n",
       "      <td>Inception</td>\n",
       "      <td>2010</td>\n",
       "      <td>Joseph Gordon-Levitt</td>\n",
       "      <td>actor</td>\n",
       "      <td>Arthur</td>\n",
       "      <td>2.0</td>\n",
       "    </tr>\n",
       "    <tr>\n",
       "      <th>846668</th>\n",
       "      <td>Inception</td>\n",
       "      <td>2010</td>\n",
       "      <td>Lukas Haas</td>\n",
       "      <td>actor</td>\n",
       "      <td>Nash</td>\n",
       "      <td>12.0</td>\n",
       "    </tr>\n",
       "    <tr>\n",
       "      <th>874933</th>\n",
       "      <td>Inception</td>\n",
       "      <td>2010</td>\n",
       "      <td>Tom Hardy</td>\n",
       "      <td>actor</td>\n",
       "      <td>Eames</td>\n",
       "      <td>4.0</td>\n",
       "    </tr>\n",
       "    <tr>\n",
       "      <th>899605</th>\n",
       "      <td>Inception</td>\n",
       "      <td>2010</td>\n",
       "      <td>Ryan Hayward</td>\n",
       "      <td>actor</td>\n",
       "      <td>Lawyer</td>\n",
       "      <td>21.0</td>\n",
       "    </tr>\n",
       "    <tr>\n",
       "      <th>936544</th>\n",
       "      <td>Inception</td>\n",
       "      <td>2010</td>\n",
       "      <td>Andrew Hoagland</td>\n",
       "      <td>actor</td>\n",
       "      <td>Pedestrian</td>\n",
       "      <td>NaN</td>\n",
       "    </tr>\n",
       "    <tr>\n",
       "      <th>1018921</th>\n",
       "      <td>Inception</td>\n",
       "      <td>2010</td>\n",
       "      <td>Charles Jarrell</td>\n",
       "      <td>actor</td>\n",
       "      <td>Hotel Guest</td>\n",
       "      <td>NaN</td>\n",
       "    </tr>\n",
       "    <tr>\n",
       "      <th>1031400</th>\n",
       "      <td>Inception</td>\n",
       "      <td>2010</td>\n",
       "      <td>Seong-hwan Jo</td>\n",
       "      <td>actor</td>\n",
       "      <td>Japanese Landing Crew</td>\n",
       "      <td>NaN</td>\n",
       "    </tr>\n",
       "    <tr>\n",
       "      <th>1041989</th>\n",
       "      <td>Inception</td>\n",
       "      <td>2010</td>\n",
       "      <td>Alonzo F. Jones</td>\n",
       "      <td>actor</td>\n",
       "      <td>Mombasan Casino Staff</td>\n",
       "      <td>NaN</td>\n",
       "    </tr>\n",
       "    <tr>\n",
       "      <th>...</th>\n",
       "      <td>...</td>\n",
       "      <td>...</td>\n",
       "      <td>...</td>\n",
       "      <td>...</td>\n",
       "      <td>...</td>\n",
       "      <td>...</td>\n",
       "    </tr>\n",
       "    <tr>\n",
       "      <th>1785277</th>\n",
       "      <td>Inception</td>\n",
       "      <td>2010</td>\n",
       "      <td>Benjamin (II) Riley</td>\n",
       "      <td>actor</td>\n",
       "      <td>Bridge Sub Con</td>\n",
       "      <td>NaN</td>\n",
       "    </tr>\n",
       "    <tr>\n",
       "      <th>1858126</th>\n",
       "      <td>Inception</td>\n",
       "      <td>2010</td>\n",
       "      <td>Norman Saleet</td>\n",
       "      <td>actor</td>\n",
       "      <td>Airport Patron</td>\n",
       "      <td>NaN</td>\n",
       "    </tr>\n",
       "    <tr>\n",
       "      <th>1903863</th>\n",
       "      <td>Inception</td>\n",
       "      <td>2010</td>\n",
       "      <td>Felix Scott</td>\n",
       "      <td>actor</td>\n",
       "      <td>Businessman</td>\n",
       "      <td>46.0</td>\n",
       "    </tr>\n",
       "    <tr>\n",
       "      <th>1975903</th>\n",
       "      <td>Inception</td>\n",
       "      <td>2010</td>\n",
       "      <td>Colin (XXV) Smith</td>\n",
       "      <td>actor</td>\n",
       "      <td>Airport Patron</td>\n",
       "      <td>NaN</td>\n",
       "    </tr>\n",
       "    <tr>\n",
       "      <th>2078719</th>\n",
       "      <td>Inception</td>\n",
       "      <td>2010</td>\n",
       "      <td>Affan Tareen</td>\n",
       "      <td>actor</td>\n",
       "      <td>Denison</td>\n",
       "      <td>NaN</td>\n",
       "    </tr>\n",
       "    <tr>\n",
       "      <th>2090080</th>\n",
       "      <td>Inception</td>\n",
       "      <td>2010</td>\n",
       "      <td>Jason Tendell</td>\n",
       "      <td>actor</td>\n",
       "      <td>Fischer's Driver</td>\n",
       "      <td>49.0</td>\n",
       "    </tr>\n",
       "    <tr>\n",
       "      <th>2105611</th>\n",
       "      <td>Inception</td>\n",
       "      <td>2010</td>\n",
       "      <td>Kraig Thornber</td>\n",
       "      <td>actor</td>\n",
       "      <td>Bar Sub Con</td>\n",
       "      <td>36.0</td>\n",
       "    </tr>\n",
       "    <tr>\n",
       "      <th>2234295</th>\n",
       "      <td>Inception</td>\n",
       "      <td>2010</td>\n",
       "      <td>Ken Watanabe</td>\n",
       "      <td>actor</td>\n",
       "      <td>Saito</td>\n",
       "      <td>5.0</td>\n",
       "    </tr>\n",
       "    <tr>\n",
       "      <th>2424474</th>\n",
       "      <td>Inception</td>\n",
       "      <td>2010</td>\n",
       "      <td>Natasha Beaumont</td>\n",
       "      <td>actress</td>\n",
       "      <td>Bar Sub Con</td>\n",
       "      <td>38.0</td>\n",
       "    </tr>\n",
       "    <tr>\n",
       "      <th>2560846</th>\n",
       "      <td>Inception</td>\n",
       "      <td>2010</td>\n",
       "      <td>Marion Cotillard</td>\n",
       "      <td>actress</td>\n",
       "      <td>Mal</td>\n",
       "      <td>9.0</td>\n",
       "    </tr>\n",
       "    <tr>\n",
       "      <th>2570301</th>\n",
       "      <td>Inception</td>\n",
       "      <td>2010</td>\n",
       "      <td>Helena Cullinan</td>\n",
       "      <td>actress</td>\n",
       "      <td>Penrose Sub Con</td>\n",
       "      <td>31.0</td>\n",
       "    </tr>\n",
       "    <tr>\n",
       "      <th>2588406</th>\n",
       "      <td>Inception</td>\n",
       "      <td>2010</td>\n",
       "      <td>Youlanda Davis</td>\n",
       "      <td>actress</td>\n",
       "      <td>Mombasan Cashier</td>\n",
       "      <td>NaN</td>\n",
       "    </tr>\n",
       "    <tr>\n",
       "      <th>2598309</th>\n",
       "      <td>Inception</td>\n",
       "      <td>2010</td>\n",
       "      <td>Coralie Dedykere</td>\n",
       "      <td>actress</td>\n",
       "      <td>Bridge Sub Con</td>\n",
       "      <td>27.0</td>\n",
       "    </tr>\n",
       "    <tr>\n",
       "      <th>2638525</th>\n",
       "      <td>Inception</td>\n",
       "      <td>2010</td>\n",
       "      <td>Julie Eagleton</td>\n",
       "      <td>actress</td>\n",
       "      <td>Stockbroker</td>\n",
       "      <td>NaN</td>\n",
       "    </tr>\n",
       "    <tr>\n",
       "      <th>2711006</th>\n",
       "      <td>Inception</td>\n",
       "      <td>2010</td>\n",
       "      <td>Claire Geare</td>\n",
       "      <td>actress</td>\n",
       "      <td>Phillipa (3 years)</td>\n",
       "      <td>14.0</td>\n",
       "    </tr>\n",
       "    <tr>\n",
       "      <th>2711014</th>\n",
       "      <td>Inception</td>\n",
       "      <td>2010</td>\n",
       "      <td>Taylor Geare</td>\n",
       "      <td>actress</td>\n",
       "      <td>Phillipa (5 years)</td>\n",
       "      <td>16.0</td>\n",
       "    </tr>\n",
       "    <tr>\n",
       "      <th>2727182</th>\n",
       "      <td>Inception</td>\n",
       "      <td>2010</td>\n",
       "      <td>Natalie Goldwin</td>\n",
       "      <td>actress</td>\n",
       "      <td>LAX Passenger</td>\n",
       "      <td>NaN</td>\n",
       "    </tr>\n",
       "    <tr>\n",
       "      <th>2820768</th>\n",
       "      <td>Inception</td>\n",
       "      <td>2010</td>\n",
       "      <td>Marguerite Insolia</td>\n",
       "      <td>actress</td>\n",
       "      <td>Reporter</td>\n",
       "      <td>NaN</td>\n",
       "    </tr>\n",
       "    <tr>\n",
       "      <th>2904850</th>\n",
       "      <td>Inception</td>\n",
       "      <td>2010</td>\n",
       "      <td>Leticia LaBelle</td>\n",
       "      <td>actress</td>\n",
       "      <td>Airport Patron</td>\n",
       "      <td>NaN</td>\n",
       "    </tr>\n",
       "    <tr>\n",
       "      <th>2907172</th>\n",
       "      <td>Inception</td>\n",
       "      <td>2010</td>\n",
       "      <td>Silvie Laguna</td>\n",
       "      <td>actress</td>\n",
       "      <td>Bridge Sub Con</td>\n",
       "      <td>28.0</td>\n",
       "    </tr>\n",
       "    <tr>\n",
       "      <th>2913480</th>\n",
       "      <td>Inception</td>\n",
       "      <td>2010</td>\n",
       "      <td>Shelley Lang</td>\n",
       "      <td>actress</td>\n",
       "      <td>Penrose Sub Con</td>\n",
       "      <td>33.0</td>\n",
       "    </tr>\n",
       "    <tr>\n",
       "      <th>2953545</th>\n",
       "      <td>Inception</td>\n",
       "      <td>2010</td>\n",
       "      <td>Alex (II) Lombard</td>\n",
       "      <td>actress</td>\n",
       "      <td>Lobby Sub Con</td>\n",
       "      <td>42.0</td>\n",
       "    </tr>\n",
       "    <tr>\n",
       "      <th>2973696</th>\n",
       "      <td>Inception</td>\n",
       "      <td>2010</td>\n",
       "      <td>Jill Maddrell</td>\n",
       "      <td>actress</td>\n",
       "      <td>Lobby Sub Con</td>\n",
       "      <td>41.0</td>\n",
       "    </tr>\n",
       "    <tr>\n",
       "      <th>3079444</th>\n",
       "      <td>Inception</td>\n",
       "      <td>2010</td>\n",
       "      <td>Angela Nathenson</td>\n",
       "      <td>actress</td>\n",
       "      <td>Bar Sub Con</td>\n",
       "      <td>37.0</td>\n",
       "    </tr>\n",
       "    <tr>\n",
       "      <th>3094056</th>\n",
       "      <td>Inception</td>\n",
       "      <td>2010</td>\n",
       "      <td>Miranda Nolan</td>\n",
       "      <td>actress</td>\n",
       "      <td>Flight Attendant</td>\n",
       "      <td>22.0</td>\n",
       "    </tr>\n",
       "    <tr>\n",
       "      <th>3118532</th>\n",
       "      <td>Inception</td>\n",
       "      <td>2010</td>\n",
       "      <td>Ellen Page</td>\n",
       "      <td>actress</td>\n",
       "      <td>Ariadne</td>\n",
       "      <td>3.0</td>\n",
       "    </tr>\n",
       "    <tr>\n",
       "      <th>3170102</th>\n",
       "      <td>Inception</td>\n",
       "      <td>2010</td>\n",
       "      <td>Nicole Pulliam</td>\n",
       "      <td>actress</td>\n",
       "      <td>Lobby Sub Con</td>\n",
       "      <td>43.0</td>\n",
       "    </tr>\n",
       "    <tr>\n",
       "      <th>3195361</th>\n",
       "      <td>Inception</td>\n",
       "      <td>2010</td>\n",
       "      <td>Lisa (II) Reynolds</td>\n",
       "      <td>actress</td>\n",
       "      <td>Private Nurse</td>\n",
       "      <td>48.0</td>\n",
       "    </tr>\n",
       "    <tr>\n",
       "      <th>3201736</th>\n",
       "      <td>Inception</td>\n",
       "      <td>2010</td>\n",
       "      <td>Talulah Riley</td>\n",
       "      <td>actress</td>\n",
       "      <td>Blonde</td>\n",
       "      <td>25.0</td>\n",
       "    </tr>\n",
       "    <tr>\n",
       "      <th>3426523</th>\n",
       "      <td>Inception</td>\n",
       "      <td>2010</td>\n",
       "      <td>Shannon Welles</td>\n",
       "      <td>actress</td>\n",
       "      <td>Old Mal</td>\n",
       "      <td>51.0</td>\n",
       "    </tr>\n",
       "  </tbody>\n",
       "</table>\n",
       "<p>77 rows × 6 columns</p>\n",
       "</div>"
      ],
      "text/plain": [
       "             title  year                     name     type  \\\n",
       "90392    Inception  2010     Michael (III) August    actor   \n",
       "137309   Inception  2010             Peter Basham    actor   \n",
       "169823   Inception  2010             Tom Berenger    actor   \n",
       "182749   Inception  2010                 Ken Bhan    actor   \n",
       "240571   Inception  2010           Virgile Bramly    actor   \n",
       "302890   Inception  2010            Michael Caine    actor   \n",
       "309062   Inception  2010             Earl Cameron    actor   \n",
       "347611   Inception  2010            John Ceallach    actor   \n",
       "402279   Inception  2010            Nicolas Clerc    actor   \n",
       "412173   Inception  2010           Adam (IV) Cole    actor   \n",
       "480456   Inception  2010       Jean-Michel Dagory    actor   \n",
       "548708   Inception  2010        Leonardo DiCaprio    actor   \n",
       "635851   Inception  2010            Seve Esposito    actor   \n",
       "641960   Inception  2010      Marcus (II) Everett    actor   \n",
       "657783   Inception  2010  Zachary Christopher Fay    actor   \n",
       "659411   Inception  2010                Russ Fega    actor   \n",
       "685552   Inception  2010         Mark Fleischmann    actor   \n",
       "751244   Inception  2010           Michael Gaston    actor   \n",
       "755216   Inception  2010          Johnathan Geare    actor   \n",
       "773601   Inception  2010            Carl Gilliard    actor   \n",
       "774818   Inception  2010              Jack Gilroy    actor   \n",
       "777538   Inception  2010        Daniel Girondeaud    actor   \n",
       "799447   Inception  2010     Joseph Gordon-Levitt    actor   \n",
       "846668   Inception  2010               Lukas Haas    actor   \n",
       "874933   Inception  2010                Tom Hardy    actor   \n",
       "899605   Inception  2010             Ryan Hayward    actor   \n",
       "936544   Inception  2010          Andrew Hoagland    actor   \n",
       "1018921  Inception  2010          Charles Jarrell    actor   \n",
       "1031400  Inception  2010            Seong-hwan Jo    actor   \n",
       "1041989  Inception  2010          Alonzo F. Jones    actor   \n",
       "...            ...   ...                      ...      ...   \n",
       "1785277  Inception  2010      Benjamin (II) Riley    actor   \n",
       "1858126  Inception  2010            Norman Saleet    actor   \n",
       "1903863  Inception  2010              Felix Scott    actor   \n",
       "1975903  Inception  2010        Colin (XXV) Smith    actor   \n",
       "2078719  Inception  2010             Affan Tareen    actor   \n",
       "2090080  Inception  2010            Jason Tendell    actor   \n",
       "2105611  Inception  2010           Kraig Thornber    actor   \n",
       "2234295  Inception  2010             Ken Watanabe    actor   \n",
       "2424474  Inception  2010         Natasha Beaumont  actress   \n",
       "2560846  Inception  2010         Marion Cotillard  actress   \n",
       "2570301  Inception  2010          Helena Cullinan  actress   \n",
       "2588406  Inception  2010           Youlanda Davis  actress   \n",
       "2598309  Inception  2010         Coralie Dedykere  actress   \n",
       "2638525  Inception  2010           Julie Eagleton  actress   \n",
       "2711006  Inception  2010             Claire Geare  actress   \n",
       "2711014  Inception  2010             Taylor Geare  actress   \n",
       "2727182  Inception  2010          Natalie Goldwin  actress   \n",
       "2820768  Inception  2010       Marguerite Insolia  actress   \n",
       "2904850  Inception  2010          Leticia LaBelle  actress   \n",
       "2907172  Inception  2010            Silvie Laguna  actress   \n",
       "2913480  Inception  2010             Shelley Lang  actress   \n",
       "2953545  Inception  2010        Alex (II) Lombard  actress   \n",
       "2973696  Inception  2010            Jill Maddrell  actress   \n",
       "3079444  Inception  2010         Angela Nathenson  actress   \n",
       "3094056  Inception  2010            Miranda Nolan  actress   \n",
       "3118532  Inception  2010               Ellen Page  actress   \n",
       "3170102  Inception  2010           Nicole Pulliam  actress   \n",
       "3195361  Inception  2010       Lisa (II) Reynolds  actress   \n",
       "3201736  Inception  2010            Talulah Riley  actress   \n",
       "3426523  Inception  2010           Shannon Welles  actress   \n",
       "\n",
       "                     character     n  \n",
       "90392            LAX Passenger   NaN  \n",
       "137309   Fischer's Jet Captain  44.0  \n",
       "169823                Browning   8.0  \n",
       "182749        Mombasan Gambler   NaN  \n",
       "240571          Bridge Sub Con  29.0  \n",
       "302890                   Miles  11.0  \n",
       "309062        Elderly Bald Man  20.0  \n",
       "347611           LAX Passenger   NaN  \n",
       "402279          Bridge Sub Con  26.0  \n",
       "412173             Bar Sub Con  34.0  \n",
       "480456          Bridge Sub Con  30.0  \n",
       "548708                    Cobb   1.0  \n",
       "635851         Italian Gambler   NaN  \n",
       "641960            Stock Broker   NaN  \n",
       "657783                   Extra   NaN  \n",
       "659411              Cab Driver  23.0  \n",
       "685552         Penrose Sub Con  32.0  \n",
       "751244     Immigration Officer  45.0  \n",
       "755216         James (3 years)  17.0  \n",
       "773601           Lobby Sub Con  40.0  \n",
       "774818                Old Cobb  50.0  \n",
       "777538          Bridge Sub Con   NaN  \n",
       "799447                  Arthur   2.0  \n",
       "846668                    Nash  12.0  \n",
       "874933                   Eames   4.0  \n",
       "899605                  Lawyer  21.0  \n",
       "936544              Pedestrian   NaN  \n",
       "1018921            Hotel Guest   NaN  \n",
       "1031400  Japanese Landing Crew   NaN  \n",
       "1041989  Mombasan Casino Staff   NaN  \n",
       "...                        ...   ...  \n",
       "1785277         Bridge Sub Con   NaN  \n",
       "1858126         Airport Patron   NaN  \n",
       "1903863            Businessman  46.0  \n",
       "1975903         Airport Patron   NaN  \n",
       "2078719                Denison   NaN  \n",
       "2090080       Fischer's Driver  49.0  \n",
       "2105611            Bar Sub Con  36.0  \n",
       "2234295                  Saito   5.0  \n",
       "2424474            Bar Sub Con  38.0  \n",
       "2560846                    Mal   9.0  \n",
       "2570301        Penrose Sub Con  31.0  \n",
       "2588406       Mombasan Cashier   NaN  \n",
       "2598309         Bridge Sub Con  27.0  \n",
       "2638525            Stockbroker   NaN  \n",
       "2711006     Phillipa (3 years)  14.0  \n",
       "2711014     Phillipa (5 years)  16.0  \n",
       "2727182          LAX Passenger   NaN  \n",
       "2820768               Reporter   NaN  \n",
       "2904850         Airport Patron   NaN  \n",
       "2907172         Bridge Sub Con  28.0  \n",
       "2913480        Penrose Sub Con  33.0  \n",
       "2953545          Lobby Sub Con  42.0  \n",
       "2973696          Lobby Sub Con  41.0  \n",
       "3079444            Bar Sub Con  37.0  \n",
       "3094056       Flight Attendant  22.0  \n",
       "3118532                Ariadne   3.0  \n",
       "3170102          Lobby Sub Con  43.0  \n",
       "3195361          Private Nurse  48.0  \n",
       "3201736                 Blonde  25.0  \n",
       "3426523                Old Mal  51.0  \n",
       "\n",
       "[77 rows x 6 columns]"
      ]
     },
     "execution_count": 222,
     "metadata": {},
     "output_type": "execute_result"
    }
   ],
   "source": [
    "c = cast\n",
    "inceptRoles = c[c.title == 'Inception']\n",
    "inceptRoles"
   ]
  },
  {
   "cell_type": "code",
   "execution_count": 225,
   "metadata": {
    "collapsed": false
   },
   "outputs": [
    {
     "name": "stdout",
     "output_type": "stream",
     "text": [
      "The 'Inception' movie had 77 roles\n"
     ]
    }
   ],
   "source": [
    "print(\"The 'Inception' movie had \" + str(inceptRoles.character.count()) + \" roles\")"
   ]
  },
  {
   "cell_type": "markdown",
   "metadata": {
    "collapsed": true
   },
   "source": [
    "### How many roles in the movie \"Inception\" are NOT ranked by an \"n\" value?"
   ]
  },
  {
   "cell_type": "code",
   "execution_count": 210,
   "metadata": {
    "collapsed": false
   },
   "outputs": [
    {
     "data": {
      "text/html": [
       "<div>\n",
       "<table border=\"1\" class=\"dataframe\">\n",
       "  <thead>\n",
       "    <tr style=\"text-align: right;\">\n",
       "      <th></th>\n",
       "      <th>title</th>\n",
       "      <th>year</th>\n",
       "      <th>name</th>\n",
       "      <th>type</th>\n",
       "      <th>character</th>\n",
       "      <th>n</th>\n",
       "    </tr>\n",
       "  </thead>\n",
       "  <tbody>\n",
       "    <tr>\n",
       "      <th>90392</th>\n",
       "      <td>Inception</td>\n",
       "      <td>2010</td>\n",
       "      <td>Michael (III) August</td>\n",
       "      <td>actor</td>\n",
       "      <td>LAX Passenger</td>\n",
       "      <td>NaN</td>\n",
       "    </tr>\n",
       "    <tr>\n",
       "      <th>182749</th>\n",
       "      <td>Inception</td>\n",
       "      <td>2010</td>\n",
       "      <td>Ken Bhan</td>\n",
       "      <td>actor</td>\n",
       "      <td>Mombasan Gambler</td>\n",
       "      <td>NaN</td>\n",
       "    </tr>\n",
       "    <tr>\n",
       "      <th>347611</th>\n",
       "      <td>Inception</td>\n",
       "      <td>2010</td>\n",
       "      <td>John Ceallach</td>\n",
       "      <td>actor</td>\n",
       "      <td>LAX Passenger</td>\n",
       "      <td>NaN</td>\n",
       "    </tr>\n",
       "    <tr>\n",
       "      <th>635851</th>\n",
       "      <td>Inception</td>\n",
       "      <td>2010</td>\n",
       "      <td>Seve Esposito</td>\n",
       "      <td>actor</td>\n",
       "      <td>Italian Gambler</td>\n",
       "      <td>NaN</td>\n",
       "    </tr>\n",
       "    <tr>\n",
       "      <th>641960</th>\n",
       "      <td>Inception</td>\n",
       "      <td>2010</td>\n",
       "      <td>Marcus (II) Everett</td>\n",
       "      <td>actor</td>\n",
       "      <td>Stock Broker</td>\n",
       "      <td>NaN</td>\n",
       "    </tr>\n",
       "  </tbody>\n",
       "</table>\n",
       "</div>"
      ],
      "text/plain": [
       "            title  year                  name   type         character   n\n",
       "90392   Inception  2010  Michael (III) August  actor     LAX Passenger NaN\n",
       "182749  Inception  2010              Ken Bhan  actor  Mombasan Gambler NaN\n",
       "347611  Inception  2010         John Ceallach  actor     LAX Passenger NaN\n",
       "635851  Inception  2010         Seve Esposito  actor   Italian Gambler NaN\n",
       "641960  Inception  2010   Marcus (II) Everett  actor      Stock Broker NaN"
      ]
     },
     "execution_count": 210,
     "metadata": {},
     "output_type": "execute_result"
    }
   ],
   "source": [
    "notRanked = c[(c.title == 'Inception') & (c.n.isnull())]\n",
    "notRanked.head()"
   ]
  },
  {
   "cell_type": "code",
   "execution_count": 212,
   "metadata": {
    "collapsed": false
   },
   "outputs": [
    {
     "name": "stdout",
     "output_type": "stream",
     "text": [
      "26 roles are NOT ranked by an 'n' value in the movie 'Inception'\n"
     ]
    }
   ],
   "source": [
    "print (str(len(notRanked.n)) + \" roles are NOT ranked by an 'n' value in the movie 'Inception'\")"
   ]
  },
  {
   "cell_type": "markdown",
   "metadata": {
    "collapsed": true
   },
   "source": [
    "### But how many roles in the movie \"Inception\" did receive an \"n\" value?"
   ]
  },
  {
   "cell_type": "code",
   "execution_count": 214,
   "metadata": {
    "collapsed": false
   },
   "outputs": [
    {
     "data": {
      "text/html": [
       "<div>\n",
       "<table border=\"1\" class=\"dataframe\">\n",
       "  <thead>\n",
       "    <tr style=\"text-align: right;\">\n",
       "      <th></th>\n",
       "      <th>title</th>\n",
       "      <th>year</th>\n",
       "      <th>name</th>\n",
       "      <th>type</th>\n",
       "      <th>character</th>\n",
       "      <th>n</th>\n",
       "    </tr>\n",
       "  </thead>\n",
       "  <tbody>\n",
       "    <tr>\n",
       "      <th>137309</th>\n",
       "      <td>Inception</td>\n",
       "      <td>2010</td>\n",
       "      <td>Peter Basham</td>\n",
       "      <td>actor</td>\n",
       "      <td>Fischer's Jet Captain</td>\n",
       "      <td>44.0</td>\n",
       "    </tr>\n",
       "    <tr>\n",
       "      <th>169823</th>\n",
       "      <td>Inception</td>\n",
       "      <td>2010</td>\n",
       "      <td>Tom Berenger</td>\n",
       "      <td>actor</td>\n",
       "      <td>Browning</td>\n",
       "      <td>8.0</td>\n",
       "    </tr>\n",
       "    <tr>\n",
       "      <th>240571</th>\n",
       "      <td>Inception</td>\n",
       "      <td>2010</td>\n",
       "      <td>Virgile Bramly</td>\n",
       "      <td>actor</td>\n",
       "      <td>Bridge Sub Con</td>\n",
       "      <td>29.0</td>\n",
       "    </tr>\n",
       "    <tr>\n",
       "      <th>302890</th>\n",
       "      <td>Inception</td>\n",
       "      <td>2010</td>\n",
       "      <td>Michael Caine</td>\n",
       "      <td>actor</td>\n",
       "      <td>Miles</td>\n",
       "      <td>11.0</td>\n",
       "    </tr>\n",
       "    <tr>\n",
       "      <th>309062</th>\n",
       "      <td>Inception</td>\n",
       "      <td>2010</td>\n",
       "      <td>Earl Cameron</td>\n",
       "      <td>actor</td>\n",
       "      <td>Elderly Bald Man</td>\n",
       "      <td>20.0</td>\n",
       "    </tr>\n",
       "  </tbody>\n",
       "</table>\n",
       "</div>"
      ],
      "text/plain": [
       "            title  year            name   type              character     n\n",
       "137309  Inception  2010    Peter Basham  actor  Fischer's Jet Captain  44.0\n",
       "169823  Inception  2010    Tom Berenger  actor               Browning   8.0\n",
       "240571  Inception  2010  Virgile Bramly  actor         Bridge Sub Con  29.0\n",
       "302890  Inception  2010   Michael Caine  actor                  Miles  11.0\n",
       "309062  Inception  2010    Earl Cameron  actor       Elderly Bald Man  20.0"
      ]
     },
     "execution_count": 214,
     "metadata": {},
     "output_type": "execute_result"
    }
   ],
   "source": [
    "isRanked = c[(c.title == 'Inception') & (c.n.notnull())]\n",
    "isRanked.head()"
   ]
  },
  {
   "cell_type": "code",
   "execution_count": 216,
   "metadata": {
    "collapsed": false
   },
   "outputs": [
    {
     "name": "stdout",
     "output_type": "stream",
     "text": [
      "51 roles are ranked by an 'n' value in the movie 'Inception'\n"
     ]
    }
   ],
   "source": [
    "print (str(len(isRanked.n)) + \" roles are ranked by an 'n' value in the movie 'Inception'\")"
   ]
  },
  {
   "cell_type": "markdown",
   "metadata": {
    "collapsed": true
   },
   "source": [
    "### Display the cast of \"North by Northwest\" in their correct \"n\"-value order, ignoring roles that did not earn a numeric \"n\" value."
   ]
  },
  {
   "cell_type": "code",
   "execution_count": 236,
   "metadata": {
    "collapsed": false
   },
   "outputs": [
    {
     "data": {
      "text/html": [
       "<div>\n",
       "<table border=\"1\" class=\"dataframe\">\n",
       "  <thead>\n",
       "    <tr style=\"text-align: right;\">\n",
       "      <th></th>\n",
       "      <th>title</th>\n",
       "      <th>year</th>\n",
       "      <th>name</th>\n",
       "      <th>type</th>\n",
       "      <th>character</th>\n",
       "      <th>n</th>\n",
       "    </tr>\n",
       "  </thead>\n",
       "  <tbody>\n",
       "    <tr>\n",
       "      <th>810109</th>\n",
       "      <td>North by Northwest</td>\n",
       "      <td>1959</td>\n",
       "      <td>Cary Grant</td>\n",
       "      <td>actor</td>\n",
       "      <td>Roger O. Thornhill</td>\n",
       "      <td>1.0</td>\n",
       "    </tr>\n",
       "    <tr>\n",
       "      <th>3235971</th>\n",
       "      <td>North by Northwest</td>\n",
       "      <td>1959</td>\n",
       "      <td>Eva Marie Saint</td>\n",
       "      <td>actress</td>\n",
       "      <td>Eve Kendall</td>\n",
       "      <td>2.0</td>\n",
       "    </tr>\n",
       "    <tr>\n",
       "      <th>1354180</th>\n",
       "      <td>North by Northwest</td>\n",
       "      <td>1959</td>\n",
       "      <td>James Mason</td>\n",
       "      <td>actor</td>\n",
       "      <td>Phillip Vandamm</td>\n",
       "      <td>3.0</td>\n",
       "    </tr>\n",
       "    <tr>\n",
       "      <th>2911919</th>\n",
       "      <td>North by Northwest</td>\n",
       "      <td>1959</td>\n",
       "      <td>Jessie Royce Landis</td>\n",
       "      <td>actress</td>\n",
       "      <td>Clara Thornhill</td>\n",
       "      <td>4.0</td>\n",
       "    </tr>\n",
       "    <tr>\n",
       "      <th>330827</th>\n",
       "      <td>North by Northwest</td>\n",
       "      <td>1959</td>\n",
       "      <td>Leo G. Carroll</td>\n",
       "      <td>actor</td>\n",
       "      <td>The Professor</td>\n",
       "      <td>5.0</td>\n",
       "    </tr>\n",
       "    <tr>\n",
       "      <th>2815263</th>\n",
       "      <td>North by Northwest</td>\n",
       "      <td>1959</td>\n",
       "      <td>Josephine Hutchinson</td>\n",
       "      <td>actress</td>\n",
       "      <td>Mrs. Townsend</td>\n",
       "      <td>6.0</td>\n",
       "    </tr>\n",
       "    <tr>\n",
       "      <th>1576006</th>\n",
       "      <td>North by Northwest</td>\n",
       "      <td>1959</td>\n",
       "      <td>Philip Ober</td>\n",
       "      <td>actor</td>\n",
       "      <td>Lester Townsend</td>\n",
       "      <td>7.0</td>\n",
       "    </tr>\n",
       "    <tr>\n",
       "      <th>1184592</th>\n",
       "      <td>North by Northwest</td>\n",
       "      <td>1959</td>\n",
       "      <td>Martin Landau</td>\n",
       "      <td>actor</td>\n",
       "      <td>Leonard</td>\n",
       "      <td>8.0</td>\n",
       "    </tr>\n",
       "    <tr>\n",
       "      <th>2272380</th>\n",
       "      <td>North by Northwest</td>\n",
       "      <td>1959</td>\n",
       "      <td>Adam Williams</td>\n",
       "      <td>actor</td>\n",
       "      <td>Valerian</td>\n",
       "      <td>9.0</td>\n",
       "    </tr>\n",
       "    <tr>\n",
       "      <th>1683543</th>\n",
       "      <td>North by Northwest</td>\n",
       "      <td>1959</td>\n",
       "      <td>Edward Platt</td>\n",
       "      <td>actor</td>\n",
       "      <td>Victor Larrabee</td>\n",
       "      <td>10.0</td>\n",
       "    </tr>\n",
       "    <tr>\n",
       "      <th>618775</th>\n",
       "      <td>North by Northwest</td>\n",
       "      <td>1959</td>\n",
       "      <td>Robert Ellenstein</td>\n",
       "      <td>actor</td>\n",
       "      <td>Licht</td>\n",
       "      <td>11.0</td>\n",
       "    </tr>\n",
       "    <tr>\n",
       "      <th>2131821</th>\n",
       "      <td>North by Northwest</td>\n",
       "      <td>1959</td>\n",
       "      <td>Les Tremayne</td>\n",
       "      <td>actor</td>\n",
       "      <td>Auctioneer</td>\n",
       "      <td>12.0</td>\n",
       "    </tr>\n",
       "    <tr>\n",
       "      <th>431247</th>\n",
       "      <td>North by Northwest</td>\n",
       "      <td>1959</td>\n",
       "      <td>Philip Coolidge</td>\n",
       "      <td>actor</td>\n",
       "      <td>Dr. Cross</td>\n",
       "      <td>13.0</td>\n",
       "    </tr>\n",
       "    <tr>\n",
       "      <th>1402205</th>\n",
       "      <td>North by Northwest</td>\n",
       "      <td>1959</td>\n",
       "      <td>Patrick McVey</td>\n",
       "      <td>actor</td>\n",
       "      <td>Sergeant Flamm</td>\n",
       "      <td>14.0</td>\n",
       "    </tr>\n",
       "    <tr>\n",
       "      <th>190611</th>\n",
       "      <td>North by Northwest</td>\n",
       "      <td>1959</td>\n",
       "      <td>Edward Binns</td>\n",
       "      <td>actor</td>\n",
       "      <td>Captain Junket</td>\n",
       "      <td>15.0</td>\n",
       "    </tr>\n",
       "    <tr>\n",
       "      <th>1286691</th>\n",
       "      <td>North by Northwest</td>\n",
       "      <td>1959</td>\n",
       "      <td>Ken Lynch</td>\n",
       "      <td>actor</td>\n",
       "      <td>Charley - Chicago Policeman</td>\n",
       "      <td>16.0</td>\n",
       "    </tr>\n",
       "  </tbody>\n",
       "</table>\n",
       "</div>"
      ],
      "text/plain": [
       "                      title  year                  name     type  \\\n",
       "810109   North by Northwest  1959            Cary Grant    actor   \n",
       "3235971  North by Northwest  1959       Eva Marie Saint  actress   \n",
       "1354180  North by Northwest  1959           James Mason    actor   \n",
       "2911919  North by Northwest  1959   Jessie Royce Landis  actress   \n",
       "330827   North by Northwest  1959        Leo G. Carroll    actor   \n",
       "2815263  North by Northwest  1959  Josephine Hutchinson  actress   \n",
       "1576006  North by Northwest  1959           Philip Ober    actor   \n",
       "1184592  North by Northwest  1959         Martin Landau    actor   \n",
       "2272380  North by Northwest  1959         Adam Williams    actor   \n",
       "1683543  North by Northwest  1959          Edward Platt    actor   \n",
       "618775   North by Northwest  1959     Robert Ellenstein    actor   \n",
       "2131821  North by Northwest  1959          Les Tremayne    actor   \n",
       "431247   North by Northwest  1959       Philip Coolidge    actor   \n",
       "1402205  North by Northwest  1959         Patrick McVey    actor   \n",
       "190611   North by Northwest  1959          Edward Binns    actor   \n",
       "1286691  North by Northwest  1959             Ken Lynch    actor   \n",
       "\n",
       "                           character     n  \n",
       "810109            Roger O. Thornhill   1.0  \n",
       "3235971                  Eve Kendall   2.0  \n",
       "1354180              Phillip Vandamm   3.0  \n",
       "2911919              Clara Thornhill   4.0  \n",
       "330827                 The Professor   5.0  \n",
       "2815263                Mrs. Townsend   6.0  \n",
       "1576006              Lester Townsend   7.0  \n",
       "1184592                      Leonard   8.0  \n",
       "2272380                     Valerian   9.0  \n",
       "1683543              Victor Larrabee  10.0  \n",
       "618775                         Licht  11.0  \n",
       "2131821                   Auctioneer  12.0  \n",
       "431247                     Dr. Cross  13.0  \n",
       "1402205               Sergeant Flamm  14.0  \n",
       "190611                Captain Junket  15.0  \n",
       "1286691  Charley - Chicago Policeman  16.0  "
      ]
     },
     "execution_count": 236,
     "metadata": {},
     "output_type": "execute_result"
    }
   ],
   "source": [
    "nbnCast = c[(c.title == 'North by Northwest') & (c.n.notnull())].sort_values('n')\n",
    "nbnCast"
   ]
  },
  {
   "cell_type": "code",
   "execution_count": null,
   "metadata": {
    "collapsed": false
   },
   "outputs": [],
   "source": []
  },
  {
   "cell_type": "markdown",
   "metadata": {
    "collapsed": true
   },
   "source": [
    "### Display the entire cast, in \"n\"-order, of the 1972 film \"Sleuth\"."
   ]
  },
  {
   "cell_type": "code",
   "execution_count": 241,
   "metadata": {
    "collapsed": false
   },
   "outputs": [
    {
     "data": {
      "text/html": [
       "<div>\n",
       "<table border=\"1\" class=\"dataframe\">\n",
       "  <thead>\n",
       "    <tr style=\"text-align: right;\">\n",
       "      <th></th>\n",
       "      <th>title</th>\n",
       "      <th>year</th>\n",
       "      <th>name</th>\n",
       "      <th>type</th>\n",
       "      <th>character</th>\n",
       "      <th>n</th>\n",
       "    </tr>\n",
       "  </thead>\n",
       "  <tbody>\n",
       "    <tr>\n",
       "      <th>302919</th>\n",
       "      <td>Sleuth</td>\n",
       "      <td>2007</td>\n",
       "      <td>Michael Caine</td>\n",
       "      <td>actor</td>\n",
       "      <td>Andrew</td>\n",
       "      <td>1.0</td>\n",
       "    </tr>\n",
       "    <tr>\n",
       "      <th>1585272</th>\n",
       "      <td>Sleuth</td>\n",
       "      <td>1972</td>\n",
       "      <td>Laurence Olivier</td>\n",
       "      <td>actor</td>\n",
       "      <td>Andrew Wyke</td>\n",
       "      <td>1.0</td>\n",
       "    </tr>\n",
       "    <tr>\n",
       "      <th>302918</th>\n",
       "      <td>Sleuth</td>\n",
       "      <td>1972</td>\n",
       "      <td>Michael Caine</td>\n",
       "      <td>actor</td>\n",
       "      <td>Milo Tindle</td>\n",
       "      <td>2.0</td>\n",
       "    </tr>\n",
       "    <tr>\n",
       "      <th>1201800</th>\n",
       "      <td>Sleuth</td>\n",
       "      <td>2007</td>\n",
       "      <td>Jude Law</td>\n",
       "      <td>actor</td>\n",
       "      <td>Milo</td>\n",
       "      <td>2.0</td>\n",
       "    </tr>\n",
       "    <tr>\n",
       "      <th>346900</th>\n",
       "      <td>Sleuth</td>\n",
       "      <td>1972</td>\n",
       "      <td>Alec Cawthorne</td>\n",
       "      <td>actor</td>\n",
       "      <td>Inspector Doppler</td>\n",
       "      <td>3.0</td>\n",
       "    </tr>\n",
       "    <tr>\n",
       "      <th>1678498</th>\n",
       "      <td>Sleuth</td>\n",
       "      <td>2007</td>\n",
       "      <td>Harold Pinter</td>\n",
       "      <td>actor</td>\n",
       "      <td>Man on T.V.</td>\n",
       "      <td>3.0</td>\n",
       "    </tr>\n",
       "    <tr>\n",
       "      <th>1361812</th>\n",
       "      <td>Sleuth</td>\n",
       "      <td>1972</td>\n",
       "      <td>John (II) Matthews</td>\n",
       "      <td>actor</td>\n",
       "      <td>Detective Sergeant Tarrant</td>\n",
       "      <td>4.0</td>\n",
       "    </tr>\n",
       "    <tr>\n",
       "      <th>2523593</th>\n",
       "      <td>Sleuth</td>\n",
       "      <td>1972</td>\n",
       "      <td>Eve (III) Channing</td>\n",
       "      <td>actress</td>\n",
       "      <td>Marguerite Wyke</td>\n",
       "      <td>5.0</td>\n",
       "    </tr>\n",
       "    <tr>\n",
       "      <th>1346399</th>\n",
       "      <td>Sleuth</td>\n",
       "      <td>1972</td>\n",
       "      <td>Teddy Martin</td>\n",
       "      <td>actor</td>\n",
       "      <td>Police Constable Higgs</td>\n",
       "      <td>6.0</td>\n",
       "    </tr>\n",
       "    <tr>\n",
       "      <th>240674</th>\n",
       "      <td>Sleuth</td>\n",
       "      <td>2007</td>\n",
       "      <td>Kenneth Branagh</td>\n",
       "      <td>actor</td>\n",
       "      <td>Other Man on T.V.</td>\n",
       "      <td>NaN</td>\n",
       "    </tr>\n",
       "    <tr>\n",
       "      <th>346901</th>\n",
       "      <td>Sleuth</td>\n",
       "      <td>2007</td>\n",
       "      <td>Alec (II) Cawthorne</td>\n",
       "      <td>actor</td>\n",
       "      <td>Inspector Doppler</td>\n",
       "      <td>NaN</td>\n",
       "    </tr>\n",
       "    <tr>\n",
       "      <th>2523592</th>\n",
       "      <td>Sleuth</td>\n",
       "      <td>2007</td>\n",
       "      <td>Eve (II) Channing</td>\n",
       "      <td>actress</td>\n",
       "      <td>Marguerite Wyke</td>\n",
       "      <td>NaN</td>\n",
       "    </tr>\n",
       "    <tr>\n",
       "      <th>3103659</th>\n",
       "      <td>Sleuth</td>\n",
       "      <td>2007</td>\n",
       "      <td>Carmel O'Sullivan</td>\n",
       "      <td>actress</td>\n",
       "      <td>Maggie</td>\n",
       "      <td>NaN</td>\n",
       "    </tr>\n",
       "  </tbody>\n",
       "</table>\n",
       "</div>"
      ],
      "text/plain": [
       "          title  year                 name     type  \\\n",
       "302919   Sleuth  2007        Michael Caine    actor   \n",
       "1585272  Sleuth  1972     Laurence Olivier    actor   \n",
       "302918   Sleuth  1972        Michael Caine    actor   \n",
       "1201800  Sleuth  2007             Jude Law    actor   \n",
       "346900   Sleuth  1972       Alec Cawthorne    actor   \n",
       "1678498  Sleuth  2007        Harold Pinter    actor   \n",
       "1361812  Sleuth  1972   John (II) Matthews    actor   \n",
       "2523593  Sleuth  1972   Eve (III) Channing  actress   \n",
       "1346399  Sleuth  1972         Teddy Martin    actor   \n",
       "240674   Sleuth  2007      Kenneth Branagh    actor   \n",
       "346901   Sleuth  2007  Alec (II) Cawthorne    actor   \n",
       "2523592  Sleuth  2007    Eve (II) Channing  actress   \n",
       "3103659  Sleuth  2007    Carmel O'Sullivan  actress   \n",
       "\n",
       "                          character    n  \n",
       "302919                       Andrew  1.0  \n",
       "1585272                 Andrew Wyke  1.0  \n",
       "302918                  Milo Tindle  2.0  \n",
       "1201800                        Milo  2.0  \n",
       "346900            Inspector Doppler  3.0  \n",
       "1678498                 Man on T.V.  3.0  \n",
       "1361812  Detective Sergeant Tarrant  4.0  \n",
       "2523593             Marguerite Wyke  5.0  \n",
       "1346399      Police Constable Higgs  6.0  \n",
       "240674            Other Man on T.V.  NaN  \n",
       "346901            Inspector Doppler  NaN  \n",
       "2523592             Marguerite Wyke  NaN  \n",
       "3103659                      Maggie  NaN  "
      ]
     },
     "execution_count": 241,
     "metadata": {},
     "output_type": "execute_result"
    }
   ],
   "source": [
    "slthCast = c[(c.title == 'Sleuth')].sort_values('n')\n",
    "slthCast"
   ]
  },
  {
   "cell_type": "code",
   "execution_count": null,
   "metadata": {
    "collapsed": true
   },
   "outputs": [],
   "source": []
  },
  {
   "cell_type": "markdown",
   "metadata": {
    "collapsed": true
   },
   "source": [
    "### Now display the entire cast, in \"n\"-order, of the 2007 version of \"Sleuth\"."
   ]
  },
  {
   "cell_type": "code",
   "execution_count": 280,
   "metadata": {
    "collapsed": false
   },
   "outputs": [
    {
     "data": {
      "text/html": [
       "<div>\n",
       "<table border=\"1\" class=\"dataframe\">\n",
       "  <thead>\n",
       "    <tr style=\"text-align: right;\">\n",
       "      <th></th>\n",
       "      <th>title</th>\n",
       "      <th>year</th>\n",
       "      <th>name</th>\n",
       "      <th>type</th>\n",
       "      <th>character</th>\n",
       "      <th>n</th>\n",
       "    </tr>\n",
       "  </thead>\n",
       "  <tbody>\n",
       "    <tr>\n",
       "      <th>302919</th>\n",
       "      <td>Sleuth</td>\n",
       "      <td>2007</td>\n",
       "      <td>Michael Caine</td>\n",
       "      <td>actor</td>\n",
       "      <td>Andrew</td>\n",
       "      <td>1.0</td>\n",
       "    </tr>\n",
       "    <tr>\n",
       "      <th>1201800</th>\n",
       "      <td>Sleuth</td>\n",
       "      <td>2007</td>\n",
       "      <td>Jude Law</td>\n",
       "      <td>actor</td>\n",
       "      <td>Milo</td>\n",
       "      <td>2.0</td>\n",
       "    </tr>\n",
       "    <tr>\n",
       "      <th>1678498</th>\n",
       "      <td>Sleuth</td>\n",
       "      <td>2007</td>\n",
       "      <td>Harold Pinter</td>\n",
       "      <td>actor</td>\n",
       "      <td>Man on T.V.</td>\n",
       "      <td>3.0</td>\n",
       "    </tr>\n",
       "    <tr>\n",
       "      <th>240674</th>\n",
       "      <td>Sleuth</td>\n",
       "      <td>2007</td>\n",
       "      <td>Kenneth Branagh</td>\n",
       "      <td>actor</td>\n",
       "      <td>Other Man on T.V.</td>\n",
       "      <td>NaN</td>\n",
       "    </tr>\n",
       "    <tr>\n",
       "      <th>346901</th>\n",
       "      <td>Sleuth</td>\n",
       "      <td>2007</td>\n",
       "      <td>Alec (II) Cawthorne</td>\n",
       "      <td>actor</td>\n",
       "      <td>Inspector Doppler</td>\n",
       "      <td>NaN</td>\n",
       "    </tr>\n",
       "    <tr>\n",
       "      <th>2523592</th>\n",
       "      <td>Sleuth</td>\n",
       "      <td>2007</td>\n",
       "      <td>Eve (II) Channing</td>\n",
       "      <td>actress</td>\n",
       "      <td>Marguerite Wyke</td>\n",
       "      <td>NaN</td>\n",
       "    </tr>\n",
       "    <tr>\n",
       "      <th>3103659</th>\n",
       "      <td>Sleuth</td>\n",
       "      <td>2007</td>\n",
       "      <td>Carmel O'Sullivan</td>\n",
       "      <td>actress</td>\n",
       "      <td>Maggie</td>\n",
       "      <td>NaN</td>\n",
       "    </tr>\n",
       "  </tbody>\n",
       "</table>\n",
       "</div>"
      ],
      "text/plain": [
       "          title  year                 name     type          character    n\n",
       "302919   Sleuth  2007        Michael Caine    actor             Andrew  1.0\n",
       "1201800  Sleuth  2007             Jude Law    actor               Milo  2.0\n",
       "1678498  Sleuth  2007        Harold Pinter    actor        Man on T.V.  3.0\n",
       "240674   Sleuth  2007      Kenneth Branagh    actor  Other Man on T.V.  NaN\n",
       "346901   Sleuth  2007  Alec (II) Cawthorne    actor  Inspector Doppler  NaN\n",
       "2523592  Sleuth  2007    Eve (II) Channing  actress    Marguerite Wyke  NaN\n",
       "3103659  Sleuth  2007    Carmel O'Sullivan  actress             Maggie  NaN"
      ]
     },
     "execution_count": 280,
     "metadata": {},
     "output_type": "execute_result"
    }
   ],
   "source": [
    "slthCast = c[(c.title == 'Sleuth') & (c.year == 2007)].sort_values('n')\n",
    "slthCast"
   ]
  },
  {
   "cell_type": "code",
   "execution_count": null,
   "metadata": {
    "collapsed": true
   },
   "outputs": [],
   "source": []
  },
  {
   "cell_type": "markdown",
   "metadata": {
    "collapsed": true
   },
   "source": [
    "### How many roles were credited in the silent 1921 version of Hamlet?"
   ]
  },
  {
   "cell_type": "code",
   "execution_count": 246,
   "metadata": {
    "collapsed": false
   },
   "outputs": [
    {
     "data": {
      "text/html": [
       "<div>\n",
       "<table border=\"1\" class=\"dataframe\">\n",
       "  <thead>\n",
       "    <tr style=\"text-align: right;\">\n",
       "      <th></th>\n",
       "      <th>title</th>\n",
       "      <th>year</th>\n",
       "      <th>name</th>\n",
       "      <th>type</th>\n",
       "      <th>character</th>\n",
       "      <th>n</th>\n",
       "    </tr>\n",
       "  </thead>\n",
       "  <tbody>\n",
       "    <tr>\n",
       "      <th>7069</th>\n",
       "      <td>Hamlet</td>\n",
       "      <td>1921</td>\n",
       "      <td>Fritz Achterberg</td>\n",
       "      <td>actor</td>\n",
       "      <td>Fortinbras,</td>\n",
       "      <td>9.0</td>\n",
       "    </tr>\n",
       "    <tr>\n",
       "      <th>425739</th>\n",
       "      <td>Hamlet</td>\n",
       "      <td>1921</td>\n",
       "      <td>Paul Conradi</td>\n",
       "      <td>actor</td>\n",
       "      <td>K?nig Hamlet</td>\n",
       "      <td>2.0</td>\n",
       "    </tr>\n",
       "    <tr>\n",
       "      <th>515787</th>\n",
       "      <td>Hamlet</td>\n",
       "      <td>1921</td>\n",
       "      <td>Anton De Verdier</td>\n",
       "      <td>actor</td>\n",
       "      <td>Laertes</td>\n",
       "      <td>7.0</td>\n",
       "    </tr>\n",
       "    <tr>\n",
       "      <th>1055856</th>\n",
       "      <td>Hamlet</td>\n",
       "      <td>1921</td>\n",
       "      <td>Hans Junkermann</td>\n",
       "      <td>actor</td>\n",
       "      <td>Polonius</td>\n",
       "      <td>6.0</td>\n",
       "    </tr>\n",
       "    <tr>\n",
       "      <th>2029909</th>\n",
       "      <td>Hamlet</td>\n",
       "      <td>1921</td>\n",
       "      <td>Heinz Stieda</td>\n",
       "      <td>actor</td>\n",
       "      <td>Horatio</td>\n",
       "      <td>5.0</td>\n",
       "    </tr>\n",
       "    <tr>\n",
       "      <th>2205892</th>\n",
       "      <td>Hamlet</td>\n",
       "      <td>1921</td>\n",
       "      <td>Eduard von Winterstein</td>\n",
       "      <td>actor</td>\n",
       "      <td>Claudius</td>\n",
       "      <td>4.0</td>\n",
       "    </tr>\n",
       "    <tr>\n",
       "      <th>2469378</th>\n",
       "      <td>Hamlet</td>\n",
       "      <td>1921</td>\n",
       "      <td>Mathilde Brandt</td>\n",
       "      <td>actress</td>\n",
       "      <td>K?nigin Gertrude</td>\n",
       "      <td>3.0</td>\n",
       "    </tr>\n",
       "    <tr>\n",
       "      <th>2827406</th>\n",
       "      <td>Hamlet</td>\n",
       "      <td>1921</td>\n",
       "      <td>Lilly Jacobson</td>\n",
       "      <td>actress</td>\n",
       "      <td>Ophelia</td>\n",
       "      <td>8.0</td>\n",
       "    </tr>\n",
       "    <tr>\n",
       "      <th>3089912</th>\n",
       "      <td>Hamlet</td>\n",
       "      <td>1921</td>\n",
       "      <td>Asta Nielsen</td>\n",
       "      <td>actress</td>\n",
       "      <td>Hamlet</td>\n",
       "      <td>1.0</td>\n",
       "    </tr>\n",
       "  </tbody>\n",
       "</table>\n",
       "</div>"
      ],
      "text/plain": [
       "          title  year                    name     type         character    n\n",
       "7069     Hamlet  1921        Fritz Achterberg    actor       Fortinbras,  9.0\n",
       "425739   Hamlet  1921            Paul Conradi    actor      K?nig Hamlet  2.0\n",
       "515787   Hamlet  1921        Anton De Verdier    actor           Laertes  7.0\n",
       "1055856  Hamlet  1921         Hans Junkermann    actor          Polonius  6.0\n",
       "2029909  Hamlet  1921            Heinz Stieda    actor           Horatio  5.0\n",
       "2205892  Hamlet  1921  Eduard von Winterstein    actor          Claudius  4.0\n",
       "2469378  Hamlet  1921         Mathilde Brandt  actress  K?nigin Gertrude  3.0\n",
       "2827406  Hamlet  1921          Lilly Jacobson  actress           Ophelia  8.0\n",
       "3089912  Hamlet  1921            Asta Nielsen  actress            Hamlet  1.0"
      ]
     },
     "execution_count": 246,
     "metadata": {},
     "output_type": "execute_result"
    }
   ],
   "source": [
    "svHamlet = c[(c.title == 'Hamlet') & (c.year == 1921)]\n",
    "svHamlet"
   ]
  },
  {
   "cell_type": "code",
   "execution_count": null,
   "metadata": {
    "collapsed": true
   },
   "outputs": [],
   "source": []
  },
  {
   "cell_type": "markdown",
   "metadata": {
    "collapsed": true
   },
   "source": [
    "### How many roles were credited in Branagh’s 1996 Hamlet?"
   ]
  },
  {
   "cell_type": "code",
   "execution_count": 253,
   "metadata": {
    "collapsed": false
   },
   "outputs": [
    {
     "data": {
      "text/html": [
       "<div>\n",
       "<table border=\"1\" class=\"dataframe\">\n",
       "  <thead>\n",
       "    <tr style=\"text-align: right;\">\n",
       "      <th></th>\n",
       "      <th>title</th>\n",
       "      <th>year</th>\n",
       "      <th>name</th>\n",
       "      <th>type</th>\n",
       "      <th>character</th>\n",
       "      <th>n</th>\n",
       "    </tr>\n",
       "  </thead>\n",
       "  <tbody>\n",
       "    <tr>\n",
       "      <th>240659</th>\n",
       "      <td>Hamlet</td>\n",
       "      <td>1996</td>\n",
       "      <td>Kenneth Branagh</td>\n",
       "      <td>actor</td>\n",
       "      <td>Hamlet</td>\n",
       "      <td>5.0</td>\n",
       "    </tr>\n",
       "  </tbody>\n",
       "</table>\n",
       "</div>"
      ],
      "text/plain": [
       "         title  year             name   type character    n\n",
       "240659  Hamlet  1996  Kenneth Branagh  actor    Hamlet  5.0"
      ]
     },
     "execution_count": 253,
     "metadata": {},
     "output_type": "execute_result"
    }
   ],
   "source": [
    "brHamlet = c[(c.title == 'Hamlet') & (c.year == 1996) & (c.name.str.endswith('Branagh'))]\n",
    "brHamlet # not sure if I understood it correct"
   ]
  },
  {
   "cell_type": "code",
   "execution_count": null,
   "metadata": {
    "collapsed": true
   },
   "outputs": [],
   "source": []
  },
  {
   "cell_type": "markdown",
   "metadata": {
    "collapsed": true
   },
   "source": [
    "### How many \"Hamlet\" roles have been listed in all film credits through history?"
   ]
  },
  {
   "cell_type": "code",
   "execution_count": 257,
   "metadata": {
    "collapsed": false
   },
   "outputs": [
    {
     "data": {
      "text/plain": [
       "title        88\n",
       "year         88\n",
       "name         88\n",
       "type         88\n",
       "character    88\n",
       "n            54\n",
       "dtype: int64"
      ]
     },
     "execution_count": 257,
     "metadata": {},
     "output_type": "execute_result"
    }
   ],
   "source": [
    "hRoles = c[c.character == 'Hamlet'].count()\n",
    "hRoles"
   ]
  },
  {
   "cell_type": "code",
   "execution_count": null,
   "metadata": {
    "collapsed": true
   },
   "outputs": [],
   "source": []
  },
  {
   "cell_type": "markdown",
   "metadata": {
    "collapsed": true
   },
   "source": [
    "### How many people have played an \"Ophelia\"?"
   ]
  },
  {
   "cell_type": "code",
   "execution_count": 322,
   "metadata": {
    "collapsed": false
   },
   "outputs": [
    {
     "data": {
      "text/plain": [
       "title        103\n",
       "year         103\n",
       "name         103\n",
       "type         103\n",
       "character    103\n",
       "n             55\n",
       "dtype: int64"
      ]
     },
     "execution_count": 322,
     "metadata": {},
     "output_type": "execute_result"
    }
   ],
   "source": [
    "ophNum = c[c.character == 'Ophelia']\n",
    "ophNum.count()"
   ]
  },
  {
   "cell_type": "code",
   "execution_count": 324,
   "metadata": {
    "collapsed": false
   },
   "outputs": [
    {
     "data": {
      "text/plain": [
       "Vanessa Leonard         2\n",
       "Louise Beavers          2\n",
       "Jennifer Lynn Warren    1\n",
       "Holiday Hadley          1\n",
       "Paulina V. Ahlstrom     1\n",
       "Name: name, dtype: int64"
      ]
     },
     "execution_count": 324,
     "metadata": {},
     "output_type": "execute_result"
    }
   ],
   "source": [
    "ophNum.name.value_counts().head()"
   ]
  },
  {
   "cell_type": "code",
   "execution_count": 325,
   "metadata": {
    "collapsed": false
   },
   "outputs": [
    {
     "data": {
      "text/plain": [
       "101"
      ]
     },
     "execution_count": 325,
     "metadata": {},
     "output_type": "execute_result"
    }
   ],
   "source": [
    "ophNum.name.value_counts().count()"
   ]
  },
  {
   "cell_type": "markdown",
   "metadata": {
    "collapsed": true
   },
   "source": [
    "### How many people have played a role called \"The Dude\"?"
   ]
  },
  {
   "cell_type": "code",
   "execution_count": null,
   "metadata": {
    "collapsed": true
   },
   "outputs": [],
   "source": []
  },
  {
   "cell_type": "code",
   "execution_count": 328,
   "metadata": {
    "collapsed": false
   },
   "outputs": [
    {
     "data": {
      "text/plain": [
       "Joel Weiss             1\n",
       "Steve Lyons            1\n",
       "Christopher Kadish     1\n",
       "Mike Donlin            1\n",
       "Jeff Bridges           1\n",
       "Matthew (XIX) James    1\n",
       "Jordan Cann            1\n",
       "Devin The Dude         1\n",
       "Chris DeMarcus         1\n",
       "Jerry Miley            1\n",
       "Scott Crowell          1\n",
       "Bobby Styles           1\n",
       "House Peters Jr.       1\n",
       "Mark Alan Meek         1\n",
       "Dick Van Patten        1\n",
       "Jason Priestley        1\n",
       "Jason Loughridge       1\n",
       "Name: name, dtype: int64"
      ]
     },
     "execution_count": 328,
     "metadata": {},
     "output_type": "execute_result"
    }
   ],
   "source": [
    "theDude = c[c.character == 'The Dude']\n",
    "theDude.name.value_counts()\n",
    "\n"
   ]
  },
  {
   "cell_type": "code",
   "execution_count": 319,
   "metadata": {
    "collapsed": false
   },
   "outputs": [
    {
     "data": {
      "text/plain": [
       "title        17\n",
       "year         17\n",
       "name         17\n",
       "type         17\n",
       "character    17\n",
       "n            11\n",
       "dtype: int64"
      ]
     },
     "execution_count": 319,
     "metadata": {},
     "output_type": "execute_result"
    }
   ],
   "source": [
    "theDude.count()"
   ]
  },
  {
   "cell_type": "markdown",
   "metadata": {
    "collapsed": true
   },
   "source": [
    "### How many people have played a role called \"The Stranger\"?"
   ]
  },
  {
   "cell_type": "code",
   "execution_count": 315,
   "metadata": {
    "collapsed": false
   },
   "outputs": [
    {
     "name": "stdout",
     "output_type": "stream",
     "text": [
      "'The Starnger' character appears 206 times\n",
      "194 people played 'The Starnger' role\n"
     ]
    }
   ],
   "source": [
    "theStr = c[c.character == 'The Stranger']\n",
    "theStr\n",
    "print(\"'The Starnger' character appears \" + str(theStr.character.count()) + \" times\")\n",
    "freqCount = theStr.name.value_counts()\n",
    "print(str(freqCount.count()) + \" people played 'The Starnger' role\")"
   ]
  },
  {
   "cell_type": "code",
   "execution_count": null,
   "metadata": {
    "collapsed": true
   },
   "outputs": [],
   "source": []
  },
  {
   "cell_type": "markdown",
   "metadata": {
    "collapsed": true
   },
   "source": [
    "### How many roles has Sidney Poitier played throughout his career?"
   ]
  },
  {
   "cell_type": "code",
   "execution_count": 329,
   "metadata": {
    "collapsed": false
   },
   "outputs": [
    {
     "data": {
      "text/html": [
       "<div>\n",
       "<table border=\"1\" class=\"dataframe\">\n",
       "  <thead>\n",
       "    <tr style=\"text-align: right;\">\n",
       "      <th></th>\n",
       "      <th>title</th>\n",
       "      <th>year</th>\n",
       "      <th>name</th>\n",
       "      <th>type</th>\n",
       "      <th>character</th>\n",
       "      <th>n</th>\n",
       "    </tr>\n",
       "  </thead>\n",
       "  <tbody>\n",
       "    <tr>\n",
       "      <th>1688057</th>\n",
       "      <td>A Patch of Blue</td>\n",
       "      <td>1965</td>\n",
       "      <td>Sidney Poitier</td>\n",
       "      <td>actor</td>\n",
       "      <td>Gordon Ralfe</td>\n",
       "      <td>1.0</td>\n",
       "    </tr>\n",
       "    <tr>\n",
       "      <th>1688058</th>\n",
       "      <td>A Piece of the Action</td>\n",
       "      <td>1977</td>\n",
       "      <td>Sidney Poitier</td>\n",
       "      <td>actor</td>\n",
       "      <td>Manny Durrell</td>\n",
       "      <td>1.0</td>\n",
       "    </tr>\n",
       "    <tr>\n",
       "      <th>1688059</th>\n",
       "      <td>A Raisin in the Sun</td>\n",
       "      <td>1961</td>\n",
       "      <td>Sidney Poitier</td>\n",
       "      <td>actor</td>\n",
       "      <td>Walter Lee Younger</td>\n",
       "      <td>1.0</td>\n",
       "    </tr>\n",
       "    <tr>\n",
       "      <th>1688060</th>\n",
       "      <td>A Warm December</td>\n",
       "      <td>1973</td>\n",
       "      <td>Sidney Poitier</td>\n",
       "      <td>actor</td>\n",
       "      <td>Dr. Matt Younger</td>\n",
       "      <td>1.0</td>\n",
       "    </tr>\n",
       "    <tr>\n",
       "      <th>1688061</th>\n",
       "      <td>All the Young Men</td>\n",
       "      <td>1960</td>\n",
       "      <td>Sidney Poitier</td>\n",
       "      <td>actor</td>\n",
       "      <td>Sgt. Eddie Towler</td>\n",
       "      <td>2.0</td>\n",
       "    </tr>\n",
       "  </tbody>\n",
       "</table>\n",
       "</div>"
      ],
      "text/plain": [
       "                         title  year            name   type  \\\n",
       "1688057        A Patch of Blue  1965  Sidney Poitier  actor   \n",
       "1688058  A Piece of the Action  1977  Sidney Poitier  actor   \n",
       "1688059    A Raisin in the Sun  1961  Sidney Poitier  actor   \n",
       "1688060        A Warm December  1973  Sidney Poitier  actor   \n",
       "1688061      All the Young Men  1960  Sidney Poitier  actor   \n",
       "\n",
       "                  character    n  \n",
       "1688057        Gordon Ralfe  1.0  \n",
       "1688058       Manny Durrell  1.0  \n",
       "1688059  Walter Lee Younger  1.0  \n",
       "1688060    Dr. Matt Younger  1.0  \n",
       "1688061   Sgt. Eddie Towler  2.0  "
      ]
     },
     "execution_count": 329,
     "metadata": {},
     "output_type": "execute_result"
    }
   ],
   "source": [
    "sPoi = c[c.name == \"Sidney Poitier\"]\n",
    "sPoi.head()"
   ]
  },
  {
   "cell_type": "code",
   "execution_count": 336,
   "metadata": {
    "collapsed": false
   },
   "outputs": [
    {
     "data": {
      "text/plain": [
       "Virgil Tibbs                          3\n",
       "FBI Deputy Director Carter Preston    1\n",
       "Alan Newell                           1\n",
       "Ben Munceford                         1\n",
       "Inman Jackson                         1\n",
       "Name: character, dtype: int64"
      ]
     },
     "execution_count": 336,
     "metadata": {},
     "output_type": "execute_result"
    }
   ],
   "source": [
    "sPoi.character.value_counts().head()"
   ]
  },
  {
   "cell_type": "code",
   "execution_count": 333,
   "metadata": {
    "collapsed": false
   },
   "outputs": [
    {
     "data": {
      "text/plain": [
       "41"
      ]
     },
     "execution_count": 333,
     "metadata": {},
     "output_type": "execute_result"
    }
   ],
   "source": [
    "sPoi.character.value_counts().count()"
   ]
  },
  {
   "cell_type": "markdown",
   "metadata": {
    "collapsed": true
   },
   "source": [
    "### How many roles has Judi Dench played?"
   ]
  },
  {
   "cell_type": "code",
   "execution_count": 337,
   "metadata": {
    "collapsed": false
   },
   "outputs": [
    {
     "data": {
      "text/html": [
       "<div>\n",
       "<table border=\"1\" class=\"dataframe\">\n",
       "  <thead>\n",
       "    <tr style=\"text-align: right;\">\n",
       "      <th></th>\n",
       "      <th>title</th>\n",
       "      <th>year</th>\n",
       "      <th>name</th>\n",
       "      <th>type</th>\n",
       "      <th>character</th>\n",
       "      <th>n</th>\n",
       "    </tr>\n",
       "  </thead>\n",
       "  <tbody>\n",
       "    <tr>\n",
       "      <th>2604426</th>\n",
       "      <td>84 Charing Cross Road</td>\n",
       "      <td>1987</td>\n",
       "      <td>Judi Dench</td>\n",
       "      <td>actress</td>\n",
       "      <td>Nora Doel</td>\n",
       "      <td>3.0</td>\n",
       "    </tr>\n",
       "    <tr>\n",
       "      <th>2604427</th>\n",
       "      <td>A Handful of Dust</td>\n",
       "      <td>1988</td>\n",
       "      <td>Judi Dench</td>\n",
       "      <td>actress</td>\n",
       "      <td>Mrs. Beaver</td>\n",
       "      <td>13.0</td>\n",
       "    </tr>\n",
       "    <tr>\n",
       "      <th>2604428</th>\n",
       "      <td>A Midsummer Night's Dream</td>\n",
       "      <td>1968</td>\n",
       "      <td>Judi Dench</td>\n",
       "      <td>actress</td>\n",
       "      <td>Titania</td>\n",
       "      <td>16.0</td>\n",
       "    </tr>\n",
       "    <tr>\n",
       "      <th>2604429</th>\n",
       "      <td>A Room with a View</td>\n",
       "      <td>1985</td>\n",
       "      <td>Judi Dench</td>\n",
       "      <td>actress</td>\n",
       "      <td>Eleanor Lavish, a novelist</td>\n",
       "      <td>7.0</td>\n",
       "    </tr>\n",
       "    <tr>\n",
       "      <th>2604430</th>\n",
       "      <td>A Study in Terror</td>\n",
       "      <td>1965</td>\n",
       "      <td>Judi Dench</td>\n",
       "      <td>actress</td>\n",
       "      <td>Sally</td>\n",
       "      <td>8.0</td>\n",
       "    </tr>\n",
       "  </tbody>\n",
       "</table>\n",
       "</div>"
      ],
      "text/plain": [
       "                             title  year        name     type  \\\n",
       "2604426      84 Charing Cross Road  1987  Judi Dench  actress   \n",
       "2604427          A Handful of Dust  1988  Judi Dench  actress   \n",
       "2604428  A Midsummer Night's Dream  1968  Judi Dench  actress   \n",
       "2604429         A Room with a View  1985  Judi Dench  actress   \n",
       "2604430          A Study in Terror  1965  Judi Dench  actress   \n",
       "\n",
       "                          character     n  \n",
       "2604426                   Nora Doel   3.0  \n",
       "2604427                 Mrs. Beaver  13.0  \n",
       "2604428                     Titania  16.0  \n",
       "2604429  Eleanor Lavish, a novelist   7.0  \n",
       "2604430                       Sally   8.0  "
      ]
     },
     "execution_count": 337,
     "metadata": {},
     "output_type": "execute_result"
    }
   ],
   "source": [
    "jDen = c[c.name == \"Judi Dench\"]\n",
    "jDen.head()"
   ]
  },
  {
   "cell_type": "code",
   "execution_count": 338,
   "metadata": {
    "collapsed": false
   },
   "outputs": [
    {
     "data": {
      "text/plain": [
       "M                    8\n",
       "Evelyn Greenslade    2\n",
       "Mrs. Beaver          1\n",
       "Armande Voizin       1\n",
       "Barbara Covett       1\n",
       "Name: character, dtype: int64"
      ]
     },
     "execution_count": 338,
     "metadata": {},
     "output_type": "execute_result"
    }
   ],
   "source": [
    "jDen.character.value_counts().head()"
   ]
  },
  {
   "cell_type": "code",
   "execution_count": 339,
   "metadata": {
    "collapsed": false
   },
   "outputs": [
    {
     "data": {
      "text/plain": [
       "45"
      ]
     },
     "execution_count": 339,
     "metadata": {},
     "output_type": "execute_result"
    }
   ],
   "source": [
    "jDen.character.value_counts().count()"
   ]
  },
  {
   "cell_type": "markdown",
   "metadata": {
    "collapsed": true
   },
   "source": [
    "### List the supporting roles (having n=2) played by Cary Grant in the 1940s, in order by year."
   ]
  },
  {
   "cell_type": "code",
   "execution_count": 348,
   "metadata": {
    "collapsed": false
   },
   "outputs": [
    {
     "data": {
      "text/html": [
       "<div>\n",
       "<table border=\"1\" class=\"dataframe\">\n",
       "  <thead>\n",
       "    <tr style=\"text-align: right;\">\n",
       "      <th></th>\n",
       "      <th>title</th>\n",
       "      <th>year</th>\n",
       "      <th>name</th>\n",
       "      <th>type</th>\n",
       "      <th>character</th>\n",
       "      <th>n</th>\n",
       "    </tr>\n",
       "  </thead>\n",
       "  <tbody>\n",
       "    <tr>\n",
       "      <th>810106</th>\n",
       "      <td>My Favorite Wife</td>\n",
       "      <td>1940</td>\n",
       "      <td>Cary Grant</td>\n",
       "      <td>actor</td>\n",
       "      <td>Nick</td>\n",
       "      <td>2.0</td>\n",
       "    </tr>\n",
       "    <tr>\n",
       "      <th>810116</th>\n",
       "      <td>Penny Serenade</td>\n",
       "      <td>1941</td>\n",
       "      <td>Cary Grant</td>\n",
       "      <td>actor</td>\n",
       "      <td>Roger Adams</td>\n",
       "      <td>2.0</td>\n",
       "    </tr>\n",
       "  </tbody>\n",
       "</table>\n",
       "</div>"
      ],
      "text/plain": [
       "                   title  year        name   type    character    n\n",
       "810106  My Favorite Wife  1940  Cary Grant  actor         Nick  2.0\n",
       "810116    Penny Serenade  1941  Cary Grant  actor  Roger Adams  2.0"
      ]
     },
     "execution_count": 348,
     "metadata": {},
     "output_type": "execute_result"
    }
   ],
   "source": [
    "cGr = c[(c.name == 'Cary Grant') & (c.year >= 1940) & (c.year <=1949) & (c.n == 2)].sort_values('year')\n",
    "cGr"
   ]
  },
  {
   "cell_type": "code",
   "execution_count": null,
   "metadata": {
    "collapsed": true
   },
   "outputs": [],
   "source": []
  },
  {
   "cell_type": "markdown",
   "metadata": {
    "collapsed": true
   },
   "source": [
    "### List the leading roles that Cary Grant played in the 1940s in order by year."
   ]
  },
  {
   "cell_type": "code",
   "execution_count": 361,
   "metadata": {
    "collapsed": false
   },
   "outputs": [
    {
     "data": {
      "text/html": [
       "<div>\n",
       "<table border=\"1\" class=\"dataframe\">\n",
       "  <thead>\n",
       "    <tr style=\"text-align: right;\">\n",
       "      <th></th>\n",
       "      <th>title</th>\n",
       "      <th>year</th>\n",
       "      <th>name</th>\n",
       "      <th>type</th>\n",
       "      <th>character</th>\n",
       "      <th>n</th>\n",
       "    </tr>\n",
       "  </thead>\n",
       "  <tbody>\n",
       "    <tr>\n",
       "      <th>810133</th>\n",
       "      <td>The Philadelphia Story</td>\n",
       "      <td>1940</td>\n",
       "      <td>Cary Grant</td>\n",
       "      <td>actor</td>\n",
       "      <td>C. K. Dexter Haven</td>\n",
       "      <td>1.0</td>\n",
       "    </tr>\n",
       "    <tr>\n",
       "      <th>810131</th>\n",
       "      <td>The Howards of Virginia</td>\n",
       "      <td>1940</td>\n",
       "      <td>Cary Grant</td>\n",
       "      <td>actor</td>\n",
       "      <td>Matt Howard</td>\n",
       "      <td>1.0</td>\n",
       "    </tr>\n",
       "    <tr>\n",
       "      <th>810088</th>\n",
       "      <td>His Girl Friday</td>\n",
       "      <td>1940</td>\n",
       "      <td>Cary Grant</td>\n",
       "      <td>actor</td>\n",
       "      <td>Walter Burns</td>\n",
       "      <td>1.0</td>\n",
       "    </tr>\n",
       "    <tr>\n",
       "      <th>810106</th>\n",
       "      <td>My Favorite Wife</td>\n",
       "      <td>1940</td>\n",
       "      <td>Cary Grant</td>\n",
       "      <td>actor</td>\n",
       "      <td>Nick</td>\n",
       "      <td>2.0</td>\n",
       "    </tr>\n",
       "    <tr>\n",
       "      <th>810121</th>\n",
       "      <td>Suspicion</td>\n",
       "      <td>1941</td>\n",
       "      <td>Cary Grant</td>\n",
       "      <td>actor</td>\n",
       "      <td>Johnnie</td>\n",
       "      <td>1.0</td>\n",
       "    </tr>\n",
       "  </tbody>\n",
       "</table>\n",
       "</div>"
      ],
      "text/plain": [
       "                          title  year        name   type           character  \\\n",
       "810133   The Philadelphia Story  1940  Cary Grant  actor  C. K. Dexter Haven   \n",
       "810131  The Howards of Virginia  1940  Cary Grant  actor         Matt Howard   \n",
       "810088          His Girl Friday  1940  Cary Grant  actor        Walter Burns   \n",
       "810106         My Favorite Wife  1940  Cary Grant  actor                Nick   \n",
       "810121                Suspicion  1941  Cary Grant  actor             Johnnie   \n",
       "\n",
       "          n  \n",
       "810133  1.0  \n",
       "810131  1.0  \n",
       "810088  1.0  \n",
       "810106  2.0  \n",
       "810121  1.0  "
      ]
     },
     "execution_count": 361,
     "metadata": {},
     "output_type": "execute_result"
    }
   ],
   "source": [
    "cGr = c[(c.name == 'Cary Grant') & (c.year >= 1940) & (c.year <=1949)  ].sort_values('year')\n",
    "cGr.head() # not sure about how to distinguish leading roles"
   ]
  },
  {
   "cell_type": "code",
   "execution_count": null,
   "metadata": {
    "collapsed": true
   },
   "outputs": [],
   "source": []
  },
  {
   "cell_type": "markdown",
   "metadata": {
    "collapsed": true
   },
   "source": [
    "### How many roles were available for actors in the 1950s?"
   ]
  },
  {
   "cell_type": "code",
   "execution_count": 352,
   "metadata": {
    "collapsed": false
   },
   "outputs": [
    {
     "data": {
      "text/html": [
       "<div>\n",
       "<table border=\"1\" class=\"dataframe\">\n",
       "  <thead>\n",
       "    <tr style=\"text-align: right;\">\n",
       "      <th></th>\n",
       "      <th>title</th>\n",
       "      <th>year</th>\n",
       "      <th>name</th>\n",
       "      <th>type</th>\n",
       "      <th>character</th>\n",
       "      <th>n</th>\n",
       "    </tr>\n",
       "  </thead>\n",
       "  <tbody>\n",
       "    <tr>\n",
       "      <th>58</th>\n",
       "      <td>Fire Down Below</td>\n",
       "      <td>1957</td>\n",
       "      <td>'Stretch' Cox Troupe</td>\n",
       "      <td>actor</td>\n",
       "      <td>Limbo Dance by</td>\n",
       "      <td>20.0</td>\n",
       "    </tr>\n",
       "    <tr>\n",
       "      <th>60</th>\n",
       "      <td>Dorp aan de rivier</td>\n",
       "      <td>1958</td>\n",
       "      <td>Frans 't Hoen</td>\n",
       "      <td>actor</td>\n",
       "      <td>Dirk Jan</td>\n",
       "      <td>15.0</td>\n",
       "    </tr>\n",
       "    <tr>\n",
       "      <th>110</th>\n",
       "      <td>Die Todesarena</td>\n",
       "      <td>1953</td>\n",
       "      <td>Die 3 Motorellos</td>\n",
       "      <td>actor</td>\n",
       "      <td>Themselves</td>\n",
       "      <td>NaN</td>\n",
       "    </tr>\n",
       "    <tr>\n",
       "      <th>242</th>\n",
       "      <td>Palletoori Pilla</td>\n",
       "      <td>1950</td>\n",
       "      <td>Subba Rao A.V.</td>\n",
       "      <td>actor</td>\n",
       "      <td>Kampanna Dora</td>\n",
       "      <td>4.0</td>\n",
       "    </tr>\n",
       "    <tr>\n",
       "      <th>243</th>\n",
       "      <td>Sri Kalahastiswara Mahatyam</td>\n",
       "      <td>1954</td>\n",
       "      <td>Subba Rao A.V.</td>\n",
       "      <td>actor</td>\n",
       "      <td>Basavareddy</td>\n",
       "      <td>12.0</td>\n",
       "    </tr>\n",
       "  </tbody>\n",
       "</table>\n",
       "</div>"
      ],
      "text/plain": [
       "                           title  year                  name   type  \\\n",
       "58               Fire Down Below  1957  'Stretch' Cox Troupe  actor   \n",
       "60            Dorp aan de rivier  1958         Frans 't Hoen  actor   \n",
       "110               Die Todesarena  1953      Die 3 Motorellos  actor   \n",
       "242             Palletoori Pilla  1950        Subba Rao A.V.  actor   \n",
       "243  Sri Kalahastiswara Mahatyam  1954        Subba Rao A.V.  actor   \n",
       "\n",
       "          character     n  \n",
       "58   Limbo Dance by  20.0  \n",
       "60         Dirk Jan  15.0  \n",
       "110      Themselves   NaN  \n",
       "242   Kampanna Dora   4.0  \n",
       "243     Basavareddy  12.0  "
      ]
     },
     "execution_count": 352,
     "metadata": {},
     "output_type": "execute_result"
    }
   ],
   "source": [
    "rAvail = c[(c.year >= 1950) & (c.year <= 1959) & (c.type == 'actor')]\n",
    "rAvail.head()"
   ]
  },
  {
   "cell_type": "code",
   "execution_count": 355,
   "metadata": {
    "collapsed": false
   },
   "outputs": [
    {
     "data": {
      "text/plain": [
       "Townsman      1804\n",
       "Minor Role    1281\n",
       "Extra          913\n",
       "Reporter       688\n",
       "Barfly         669\n",
       "Name: character, dtype: int64"
      ]
     },
     "execution_count": 355,
     "metadata": {},
     "output_type": "execute_result"
    }
   ],
   "source": [
    "rAvail.character.value_counts().head() # role types"
   ]
  },
  {
   "cell_type": "code",
   "execution_count": 362,
   "metadata": {
    "collapsed": false
   },
   "outputs": [
    {
     "data": {
      "text/plain": [
       "152504"
      ]
     },
     "execution_count": 362,
     "metadata": {},
     "output_type": "execute_result"
    }
   ],
   "source": [
    "rAvail.character.count()"
   ]
  },
  {
   "cell_type": "markdown",
   "metadata": {
    "collapsed": true
   },
   "source": [
    "### How many roles were avilable for actresses in the 1950s?"
   ]
  },
  {
   "cell_type": "code",
   "execution_count": 364,
   "metadata": {
    "collapsed": false
   },
   "outputs": [
    {
     "data": {
      "text/html": [
       "<div>\n",
       "<table border=\"1\" class=\"dataframe\">\n",
       "  <thead>\n",
       "    <tr style=\"text-align: right;\">\n",
       "      <th></th>\n",
       "      <th>title</th>\n",
       "      <th>year</th>\n",
       "      <th>name</th>\n",
       "      <th>type</th>\n",
       "      <th>character</th>\n",
       "      <th>n</th>\n",
       "    </tr>\n",
       "  </thead>\n",
       "  <tbody>\n",
       "    <tr>\n",
       "      <th>2351541</th>\n",
       "      <td>A Woman of Distinction</td>\n",
       "      <td>1950</td>\n",
       "      <td>Lucienne &amp; Ashour</td>\n",
       "      <td>actress</td>\n",
       "      <td>Apache Dancers</td>\n",
       "      <td>NaN</td>\n",
       "    </tr>\n",
       "    <tr>\n",
       "      <th>2351543</th>\n",
       "      <td>Chain Lightning</td>\n",
       "      <td>1950</td>\n",
       "      <td>Lucienne &amp; Ashour</td>\n",
       "      <td>actress</td>\n",
       "      <td>Apache Dancers</td>\n",
       "      <td>NaN</td>\n",
       "    </tr>\n",
       "    <tr>\n",
       "      <th>2351548</th>\n",
       "      <td>De moedige bruidegom</td>\n",
       "      <td>1952</td>\n",
       "      <td>Hilda 't Seyen</td>\n",
       "      <td>actress</td>\n",
       "      <td>De moeder van Tinneke</td>\n",
       "      <td>NaN</td>\n",
       "    </tr>\n",
       "    <tr>\n",
       "      <th>2351575</th>\n",
       "      <td>Cuban Rebel Girls</td>\n",
       "      <td>1959</td>\n",
       "      <td>Beverly Aadland</td>\n",
       "      <td>actress</td>\n",
       "      <td>Beverly Woods</td>\n",
       "      <td>2.0</td>\n",
       "    </tr>\n",
       "    <tr>\n",
       "      <th>2351576</th>\n",
       "      <td>Death of a Salesman</td>\n",
       "      <td>1951</td>\n",
       "      <td>Beverly Aadland</td>\n",
       "      <td>actress</td>\n",
       "      <td>Girl</td>\n",
       "      <td>NaN</td>\n",
       "    </tr>\n",
       "  </tbody>\n",
       "</table>\n",
       "</div>"
      ],
      "text/plain": [
       "                          title  year               name     type  \\\n",
       "2351541  A Woman of Distinction  1950  Lucienne & Ashour  actress   \n",
       "2351543         Chain Lightning  1950  Lucienne & Ashour  actress   \n",
       "2351548    De moedige bruidegom  1952     Hilda 't Seyen  actress   \n",
       "2351575       Cuban Rebel Girls  1959    Beverly Aadland  actress   \n",
       "2351576     Death of a Salesman  1951    Beverly Aadland  actress   \n",
       "\n",
       "                     character    n  \n",
       "2351541         Apache Dancers  NaN  \n",
       "2351543         Apache Dancers  NaN  \n",
       "2351548  De moeder van Tinneke  NaN  \n",
       "2351575          Beverly Woods  2.0  \n",
       "2351576                   Girl  NaN  "
      ]
     },
     "execution_count": 364,
     "metadata": {},
     "output_type": "execute_result"
    }
   ],
   "source": [
    "rAvail = c[(c.year >= 1950) & (c.year <= 1959) & (c.type == 'actress')]\n",
    "rAvail.head()"
   ]
  },
  {
   "cell_type": "code",
   "execution_count": 365,
   "metadata": {
    "collapsed": false
   },
   "outputs": [
    {
     "data": {
      "text/plain": [
       "Minor Role    627\n",
       "Extra         534\n",
       "Dancer        373\n",
       "Nurse         343\n",
       "Girl          307\n",
       "Name: character, dtype: int64"
      ]
     },
     "execution_count": 365,
     "metadata": {},
     "output_type": "execute_result"
    }
   ],
   "source": [
    "rAvail.character.value_counts().head() # role types"
   ]
  },
  {
   "cell_type": "markdown",
   "metadata": {
    "collapsed": true
   },
   "source": [
    "### How many leading roles (n=1) were available from the beginning of film history through 1980?"
   ]
  },
  {
   "cell_type": "code",
   "execution_count": 371,
   "metadata": {
    "collapsed": false
   },
   "outputs": [
    {
     "data": {
      "text/html": [
       "<div>\n",
       "<table border=\"1\" class=\"dataframe\">\n",
       "  <thead>\n",
       "    <tr style=\"text-align: right;\">\n",
       "      <th></th>\n",
       "      <th>title</th>\n",
       "      <th>year</th>\n",
       "      <th>name</th>\n",
       "      <th>type</th>\n",
       "      <th>character</th>\n",
       "      <th>n</th>\n",
       "    </tr>\n",
       "  </thead>\n",
       "  <tbody>\n",
       "    <tr>\n",
       "      <th>738981</th>\n",
       "      <td>The Joe Gans-Battling Nelson Fight</td>\n",
       "      <td>1906</td>\n",
       "      <td>Joe Gans</td>\n",
       "      <td>actor</td>\n",
       "      <td>Himself</td>\n",
       "      <td>1.0</td>\n",
       "    </tr>\n",
       "    <tr>\n",
       "      <th>1182216</th>\n",
       "      <td>Lika mot lika</td>\n",
       "      <td>1906</td>\n",
       "      <td>Knut Lambert</td>\n",
       "      <td>actor</td>\n",
       "      <td>Coq-H?ron</td>\n",
       "      <td>1.0</td>\n",
       "    </tr>\n",
       "    <tr>\n",
       "      <th>3339816</th>\n",
       "      <td>The Story of the Kelly Gang</td>\n",
       "      <td>1906</td>\n",
       "      <td>Elizabeth Tait</td>\n",
       "      <td>actress</td>\n",
       "      <td>Kate Kelly</td>\n",
       "      <td>1.0</td>\n",
       "    </tr>\n",
       "    <tr>\n",
       "      <th>761091</th>\n",
       "      <td>Robbery Under Arms</td>\n",
       "      <td>1907</td>\n",
       "      <td>Jim Gerald</td>\n",
       "      <td>actor</td>\n",
       "      <td>Warrigal</td>\n",
       "      <td>1.0</td>\n",
       "    </tr>\n",
       "    <tr>\n",
       "      <th>142455</th>\n",
       "      <td>The Fairylogue and Radio-Plays</td>\n",
       "      <td>1908</td>\n",
       "      <td>L. Frank Baum</td>\n",
       "      <td>actor</td>\n",
       "      <td>The Wizard of Oz Man</td>\n",
       "      <td>1.0</td>\n",
       "    </tr>\n",
       "  </tbody>\n",
       "</table>\n",
       "</div>"
      ],
      "text/plain": [
       "                                      title  year            name     type  \\\n",
       "738981   The Joe Gans-Battling Nelson Fight  1906        Joe Gans    actor   \n",
       "1182216                       Lika mot lika  1906    Knut Lambert    actor   \n",
       "3339816         The Story of the Kelly Gang  1906  Elizabeth Tait  actress   \n",
       "761091                   Robbery Under Arms  1907      Jim Gerald    actor   \n",
       "142455       The Fairylogue and Radio-Plays  1908   L. Frank Baum    actor   \n",
       "\n",
       "                    character    n  \n",
       "738981                Himself  1.0  \n",
       "1182216             Coq-H?ron  1.0  \n",
       "3339816            Kate Kelly  1.0  \n",
       "761091               Warrigal  1.0  \n",
       "142455   The Wizard of Oz Man  1.0  "
      ]
     },
     "execution_count": 371,
     "metadata": {},
     "output_type": "execute_result"
    }
   ],
   "source": [
    "leadRoles = c[(c.year <= 1980) & (c.n == 1)].sort_values('year')\n",
    "leadRoles.head()"
   ]
  },
  {
   "cell_type": "code",
   "execution_count": 375,
   "metadata": {
    "collapsed": false
   },
   "outputs": [
    {
     "data": {
      "text/plain": [
       "Himself       133\n",
       "Anna           94\n",
       "Gene Autry     83\n",
       "Maria          78\n",
       "Narrator       77\n",
       "Name: character, dtype: int64"
      ]
     },
     "execution_count": 375,
     "metadata": {},
     "output_type": "execute_result"
    }
   ],
   "source": [
    "leadRoles.character.value_counts().head() # role types"
   ]
  },
  {
   "cell_type": "code",
   "execution_count": 376,
   "metadata": {
    "collapsed": false
   },
   "outputs": [
    {
     "data": {
      "text/plain": [
       "62893"
      ]
     },
     "execution_count": 376,
     "metadata": {},
     "output_type": "execute_result"
    }
   ],
   "source": [
    "leadRoles.character.count()"
   ]
  },
  {
   "cell_type": "markdown",
   "metadata": {
    "collapsed": true
   },
   "source": [
    "### How many non-leading roles were available through from the beginning of film history through 1980?"
   ]
  },
  {
   "cell_type": "code",
   "execution_count": 377,
   "metadata": {
    "collapsed": false
   },
   "outputs": [
    {
     "data": {
      "text/html": [
       "<div>\n",
       "<table border=\"1\" class=\"dataframe\">\n",
       "  <thead>\n",
       "    <tr style=\"text-align: right;\">\n",
       "      <th></th>\n",
       "      <th>title</th>\n",
       "      <th>year</th>\n",
       "      <th>name</th>\n",
       "      <th>type</th>\n",
       "      <th>character</th>\n",
       "      <th>n</th>\n",
       "    </tr>\n",
       "  </thead>\n",
       "  <tbody>\n",
       "    <tr>\n",
       "      <th>1530413</th>\n",
       "      <td>The Joe Gans-Battling Nelson Fight</td>\n",
       "      <td>1906</td>\n",
       "      <td>Battling Nelson</td>\n",
       "      <td>actor</td>\n",
       "      <td>Himself</td>\n",
       "      <td>2.0</td>\n",
       "    </tr>\n",
       "    <tr>\n",
       "      <th>2909823</th>\n",
       "      <td>Lika mot lika</td>\n",
       "      <td>1906</td>\n",
       "      <td>Helfrid Lambert</td>\n",
       "      <td>actress</td>\n",
       "      <td>Suzanne</td>\n",
       "      <td>2.0</td>\n",
       "    </tr>\n",
       "    <tr>\n",
       "      <th>2069188</th>\n",
       "      <td>The Story of the Kelly Gang</td>\n",
       "      <td>1906</td>\n",
       "      <td>John Tait</td>\n",
       "      <td>actor</td>\n",
       "      <td>School Master</td>\n",
       "      <td>2.0</td>\n",
       "    </tr>\n",
       "    <tr>\n",
       "      <th>3469273</th>\n",
       "      <td>Lika mot lika</td>\n",
       "      <td>1906</td>\n",
       "      <td>Tollie Zellman</td>\n",
       "      <td>actress</td>\n",
       "      <td>Clara, kammarjungfru</td>\n",
       "      <td>3.0</td>\n",
       "    </tr>\n",
       "    <tr>\n",
       "      <th>833771</th>\n",
       "      <td>Robbery Under Arms</td>\n",
       "      <td>1907</td>\n",
       "      <td>Arthur Guest</td>\n",
       "      <td>actor</td>\n",
       "      <td>Curate</td>\n",
       "      <td>5.0</td>\n",
       "    </tr>\n",
       "  </tbody>\n",
       "</table>\n",
       "</div>"
      ],
      "text/plain": [
       "                                      title  year             name     type  \\\n",
       "1530413  The Joe Gans-Battling Nelson Fight  1906  Battling Nelson    actor   \n",
       "2909823                       Lika mot lika  1906  Helfrid Lambert  actress   \n",
       "2069188         The Story of the Kelly Gang  1906        John Tait    actor   \n",
       "3469273                       Lika mot lika  1906   Tollie Zellman  actress   \n",
       "833771                   Robbery Under Arms  1907     Arthur Guest    actor   \n",
       "\n",
       "                    character    n  \n",
       "1530413               Himself  2.0  \n",
       "2909823               Suzanne  2.0  \n",
       "2069188         School Master  2.0  \n",
       "3469273  Clara, kammarjungfru  3.0  \n",
       "833771                 Curate  5.0  "
      ]
     },
     "execution_count": 377,
     "metadata": {},
     "output_type": "execute_result"
    }
   ],
   "source": [
    "leadRoles = c[(c.year <= 1980) & (c.n > 1)].sort_values('year')\n",
    "leadRoles.head()"
   ]
  },
  {
   "cell_type": "code",
   "execution_count": 380,
   "metadata": {
    "collapsed": false
   },
   "outputs": [
    {
     "data": {
      "text/plain": [
       "647630"
      ]
     },
     "execution_count": 380,
     "metadata": {},
     "output_type": "execute_result"
    }
   ],
   "source": [
    "leadRoles.character.count()"
   ]
  },
  {
   "cell_type": "markdown",
   "metadata": {
    "collapsed": true
   },
   "source": [
    "### How many roles through 1980 were minor enough that they did not warrant a numeric \"n\" rank?"
   ]
  },
  {
   "cell_type": "code",
   "execution_count": 400,
   "metadata": {
    "collapsed": false
   },
   "outputs": [
    {
     "data": {
      "text/html": [
       "<div>\n",
       "<table border=\"1\" class=\"dataframe\">\n",
       "  <thead>\n",
       "    <tr style=\"text-align: right;\">\n",
       "      <th></th>\n",
       "      <th>title</th>\n",
       "      <th>year</th>\n",
       "      <th>name</th>\n",
       "      <th>type</th>\n",
       "      <th>character</th>\n",
       "      <th>n</th>\n",
       "    </tr>\n",
       "  </thead>\n",
       "  <tbody>\n",
       "    <tr>\n",
       "      <th>447750</th>\n",
       "      <td>Miss Jerry</td>\n",
       "      <td>1894</td>\n",
       "      <td>William Courtenay</td>\n",
       "      <td>actor</td>\n",
       "      <td>Mr. Hamilton</td>\n",
       "      <td>NaN</td>\n",
       "    </tr>\n",
       "    <tr>\n",
       "      <th>2422869</th>\n",
       "      <td>Miss Jerry</td>\n",
       "      <td>1894</td>\n",
       "      <td>Blanche Bayliss</td>\n",
       "      <td>actress</td>\n",
       "      <td>Miss Geraldine Holbrook (Miss Jerry)</td>\n",
       "      <td>NaN</td>\n",
       "    </tr>\n",
       "    <tr>\n",
       "      <th>535668</th>\n",
       "      <td>Miss Jerry</td>\n",
       "      <td>1894</td>\n",
       "      <td>Chauncey Depew</td>\n",
       "      <td>actor</td>\n",
       "      <td>Himself - the Director of the New York Central...</td>\n",
       "      <td>NaN</td>\n",
       "    </tr>\n",
       "    <tr>\n",
       "      <th>1656217</th>\n",
       "      <td>Soldiers of the Cross</td>\n",
       "      <td>1900</td>\n",
       "      <td>Orrie Perry</td>\n",
       "      <td>actor</td>\n",
       "      <td>Lion</td>\n",
       "      <td>NaN</td>\n",
       "    </tr>\n",
       "    <tr>\n",
       "      <th>1656368</th>\n",
       "      <td>Soldiers of the Cross</td>\n",
       "      <td>1900</td>\n",
       "      <td>Reg Perry</td>\n",
       "      <td>actor</td>\n",
       "      <td>Lion</td>\n",
       "      <td>NaN</td>\n",
       "    </tr>\n",
       "    <tr>\n",
       "      <th>579160</th>\n",
       "      <td>Valsons</td>\n",
       "      <td>1905</td>\n",
       "      <td>Armand Dranem</td>\n",
       "      <td>actor</td>\n",
       "      <td>Himself</td>\n",
       "      <td>NaN</td>\n",
       "    </tr>\n",
       "    <tr>\n",
       "      <th>457881</th>\n",
       "      <td>The Story of the Kelly Gang</td>\n",
       "      <td>1906</td>\n",
       "      <td>Sam Crewes</td>\n",
       "      <td>actor</td>\n",
       "      <td>Dan Kelly</td>\n",
       "      <td>NaN</td>\n",
       "    </tr>\n",
       "    <tr>\n",
       "      <th>2069179</th>\n",
       "      <td>The Story of the Kelly Gang</td>\n",
       "      <td>1906</td>\n",
       "      <td>Frank Tait</td>\n",
       "      <td>actor</td>\n",
       "      <td>Extra</td>\n",
       "      <td>NaN</td>\n",
       "    </tr>\n",
       "    <tr>\n",
       "      <th>2069178</th>\n",
       "      <td>The Story of the Kelly Gang</td>\n",
       "      <td>1906</td>\n",
       "      <td>E.J. Tait</td>\n",
       "      <td>actor</td>\n",
       "      <td>Extra</td>\n",
       "      <td>NaN</td>\n",
       "    </tr>\n",
       "    <tr>\n",
       "      <th>1393719</th>\n",
       "      <td>The Story of the Kelly Gang</td>\n",
       "      <td>1906</td>\n",
       "      <td>Mr. McKenzie</td>\n",
       "      <td>actor</td>\n",
       "      <td>Steve Hart</td>\n",
       "      <td>NaN</td>\n",
       "    </tr>\n",
       "    <tr>\n",
       "      <th>451721</th>\n",
       "      <td>The Story of the Kelly Gang</td>\n",
       "      <td>1906</td>\n",
       "      <td>Will Coyne</td>\n",
       "      <td>actor</td>\n",
       "      <td>Joe Byrne</td>\n",
       "      <td>NaN</td>\n",
       "    </tr>\n",
       "    <tr>\n",
       "      <th>628644</th>\n",
       "      <td>The Story of the Kelly Gang</td>\n",
       "      <td>1906</td>\n",
       "      <td>Jack (II) Ennis</td>\n",
       "      <td>actor</td>\n",
       "      <td>Steve Hart</td>\n",
       "      <td>NaN</td>\n",
       "    </tr>\n",
       "    <tr>\n",
       "      <th>1440134</th>\n",
       "      <td>The Story of the Kelly Gang</td>\n",
       "      <td>1906</td>\n",
       "      <td>Frank (VI) Mills</td>\n",
       "      <td>actor</td>\n",
       "      <td>Ned Kelly</td>\n",
       "      <td>NaN</td>\n",
       "    </tr>\n",
       "    <tr>\n",
       "      <th>696257</th>\n",
       "      <td>The Story of the Kelly Gang</td>\n",
       "      <td>1906</td>\n",
       "      <td>John (III) Forde</td>\n",
       "      <td>actor</td>\n",
       "      <td>Dan Kelly</td>\n",
       "      <td>NaN</td>\n",
       "    </tr>\n",
       "    <tr>\n",
       "      <th>1341290</th>\n",
       "      <td>The Story of the Kelly Gang</td>\n",
       "      <td>1906</td>\n",
       "      <td>Mr. Marshall</td>\n",
       "      <td>actor</td>\n",
       "      <td>Dan Kelly</td>\n",
       "      <td>NaN</td>\n",
       "    </tr>\n",
       "    <tr>\n",
       "      <th>311775</th>\n",
       "      <td>The Story of the Kelly Gang</td>\n",
       "      <td>1906</td>\n",
       "      <td>Norman (II) Campbell</td>\n",
       "      <td>actor</td>\n",
       "      <td>Steve Hart</td>\n",
       "      <td>NaN</td>\n",
       "    </tr>\n",
       "    <tr>\n",
       "      <th>3082285</th>\n",
       "      <td>Amleto</td>\n",
       "      <td>1908</td>\n",
       "      <td>Fernanda Negri Pouget</td>\n",
       "      <td>actress</td>\n",
       "      <td>Ofelia</td>\n",
       "      <td>NaN</td>\n",
       "    </tr>\n",
       "    <tr>\n",
       "      <th>773217</th>\n",
       "      <td>The Fairylogue and Radio-Plays</td>\n",
       "      <td>1908</td>\n",
       "      <td>William (IV) Gillespie</td>\n",
       "      <td>actor</td>\n",
       "      <td>Tip</td>\n",
       "      <td>NaN</td>\n",
       "    </tr>\n",
       "    <tr>\n",
       "      <th>1530411</th>\n",
       "      <td>Gans-Nelson Fight</td>\n",
       "      <td>1908</td>\n",
       "      <td>Battling Nelson</td>\n",
       "      <td>actor</td>\n",
       "      <td>Himself</td>\n",
       "      <td>NaN</td>\n",
       "    </tr>\n",
       "    <tr>\n",
       "      <th>738980</th>\n",
       "      <td>Gans-Nelson Fight</td>\n",
       "      <td>1908</td>\n",
       "      <td>Joe Gans</td>\n",
       "      <td>actor</td>\n",
       "      <td>Himself</td>\n",
       "      <td>NaN</td>\n",
       "    </tr>\n",
       "    <tr>\n",
       "      <th>2932607</th>\n",
       "      <td>The Fairylogue and Radio-Plays</td>\n",
       "      <td>1908</td>\n",
       "      <td>Delilah Leitzell</td>\n",
       "      <td>actress</td>\n",
       "      <td>Ozma</td>\n",
       "      <td>NaN</td>\n",
       "    </tr>\n",
       "    <tr>\n",
       "      <th>2746531</th>\n",
       "      <td>Os Guaranis</td>\n",
       "      <td>1908</td>\n",
       "      <td>Inez Grizeta</td>\n",
       "      <td>actress</td>\n",
       "      <td>Ceci</td>\n",
       "      <td>NaN</td>\n",
       "    </tr>\n",
       "    <tr>\n",
       "      <th>1583855</th>\n",
       "      <td>Os Guaranis</td>\n",
       "      <td>1908</td>\n",
       "      <td>Benjamin Oliveira</td>\n",
       "      <td>actor</td>\n",
       "      <td>Peri</td>\n",
       "      <td>NaN</td>\n",
       "    </tr>\n",
       "    <tr>\n",
       "      <th>287521</th>\n",
       "      <td>World's Heavyweight Championship Between Tommy...</td>\n",
       "      <td>1909</td>\n",
       "      <td>Tommy (IV) Burns</td>\n",
       "      <td>actor</td>\n",
       "      <td>Himself</td>\n",
       "      <td>NaN</td>\n",
       "    </tr>\n",
       "    <tr>\n",
       "      <th>1036384</th>\n",
       "      <td>World's Heavyweight Championship Between Tommy...</td>\n",
       "      <td>1909</td>\n",
       "      <td>Jack (VIII) Johnson</td>\n",
       "      <td>actor</td>\n",
       "      <td>Himself</td>\n",
       "      <td>NaN</td>\n",
       "    </tr>\n",
       "    <tr>\n",
       "      <th>727410</th>\n",
       "      <td>Kapergasten</td>\n",
       "      <td>1910</td>\n",
       "      <td>Aage F?nss</td>\n",
       "      <td>actor</td>\n",
       "      <td>Landsforr?der</td>\n",
       "      <td>NaN</td>\n",
       "    </tr>\n",
       "    <tr>\n",
       "      <th>727404</th>\n",
       "      <td>Ansigttyven I</td>\n",
       "      <td>1910</td>\n",
       "      <td>Aage F?nss</td>\n",
       "      <td>actor</td>\n",
       "      <td>R?ret</td>\n",
       "      <td>NaN</td>\n",
       "    </tr>\n",
       "    <tr>\n",
       "      <th>1696787</th>\n",
       "      <td>En rekrut fra 64</td>\n",
       "      <td>1910</td>\n",
       "      <td>Vilhelm Poss-Nielsen</td>\n",
       "      <td>actor</td>\n",
       "      <td>Farmer</td>\n",
       "      <td>NaN</td>\n",
       "    </tr>\n",
       "    <tr>\n",
       "      <th>2613202</th>\n",
       "      <td>Den hvide slavehandel</td>\n",
       "      <td>1910</td>\n",
       "      <td>Ellen Diedrich</td>\n",
       "      <td>actress</td>\n",
       "      <td>Anna</td>\n",
       "      <td>NaN</td>\n",
       "    </tr>\n",
       "    <tr>\n",
       "      <th>1827673</th>\n",
       "      <td>The Squatter's Daughter</td>\n",
       "      <td>1910</td>\n",
       "      <td>C. Rossmore</td>\n",
       "      <td>actor</td>\n",
       "      <td>Member of Ben Hall's Gang</td>\n",
       "      <td>NaN</td>\n",
       "    </tr>\n",
       "    <tr>\n",
       "      <th>...</th>\n",
       "      <td>...</td>\n",
       "      <td>...</td>\n",
       "      <td>...</td>\n",
       "      <td>...</td>\n",
       "      <td>...</td>\n",
       "      <td>...</td>\n",
       "    </tr>\n",
       "    <tr>\n",
       "      <th>2752352</th>\n",
       "      <td>Taynoe golosovanie</td>\n",
       "      <td>1980</td>\n",
       "      <td>Liliya Gurova</td>\n",
       "      <td>actress</td>\n",
       "      <td>Polina</td>\n",
       "      <td>NaN</td>\n",
       "    </tr>\n",
       "    <tr>\n",
       "      <th>604814</th>\n",
       "      <td>Bronco Billy</td>\n",
       "      <td>1980</td>\n",
       "      <td>Kyle Eastwood</td>\n",
       "      <td>actor</td>\n",
       "      <td>Orphan</td>\n",
       "      <td>NaN</td>\n",
       "    </tr>\n",
       "    <tr>\n",
       "      <th>1078015</th>\n",
       "      <td>Climax! okasareru hanayome</td>\n",
       "      <td>1980</td>\n",
       "      <td>Daiki Kato</td>\n",
       "      <td>actor</td>\n",
       "      <td>Kenji Kataoka</td>\n",
       "      <td>NaN</td>\n",
       "    </tr>\n",
       "    <tr>\n",
       "      <th>3105688</th>\n",
       "      <td>Kairaku gakuen: kinjirareta asobi</td>\n",
       "      <td>1980</td>\n",
       "      <td>Asami Ogawa</td>\n",
       "      <td>actress</td>\n",
       "      <td>Maria</td>\n",
       "      <td>NaN</td>\n",
       "    </tr>\n",
       "    <tr>\n",
       "      <th>2151415</th>\n",
       "      <td>Za spichkami</td>\n",
       "      <td>1980</td>\n",
       "      <td>Yrj? T?htel?</td>\n",
       "      <td>actor</td>\n",
       "      <td>Poliisip??llikk?</td>\n",
       "      <td>NaN</td>\n",
       "    </tr>\n",
       "    <tr>\n",
       "      <th>1078086</th>\n",
       "      <td>O Convite ao Prazer</td>\n",
       "      <td>1980</td>\n",
       "      <td>Sergio Kato</td>\n",
       "      <td>actor</td>\n",
       "      <td>Castilho</td>\n",
       "      <td>NaN</td>\n",
       "    </tr>\n",
       "    <tr>\n",
       "      <th>1747481</th>\n",
       "      <td>Vrijdag</td>\n",
       "      <td>1980</td>\n",
       "      <td>Roger Raveel</td>\n",
       "      <td>actor</td>\n",
       "      <td>Bijtebier</td>\n",
       "      <td>NaN</td>\n",
       "    </tr>\n",
       "    <tr>\n",
       "      <th>425522</th>\n",
       "      <td>The Mirror Crack'd</td>\n",
       "      <td>1980</td>\n",
       "      <td>Les Conrad</td>\n",
       "      <td>actor</td>\n",
       "      <td>Party Guest</td>\n",
       "      <td>NaN</td>\n",
       "    </tr>\n",
       "    <tr>\n",
       "      <th>1617089</th>\n",
       "      <td>Gefsi apo... Ellada!</td>\n",
       "      <td>1980</td>\n",
       "      <td>Georgios Papadopoulos</td>\n",
       "      <td>actor</td>\n",
       "      <td>Himself</td>\n",
       "      <td>NaN</td>\n",
       "    </tr>\n",
       "    <tr>\n",
       "      <th>445240</th>\n",
       "      <td>Apocalypse domani</td>\n",
       "      <td>1980</td>\n",
       "      <td>Paul Costello</td>\n",
       "      <td>actor</td>\n",
       "      <td>Newscaster</td>\n",
       "      <td>NaN</td>\n",
       "    </tr>\n",
       "    <tr>\n",
       "      <th>1330427</th>\n",
       "      <td>Voltati Eugenio</td>\n",
       "      <td>1980</td>\n",
       "      <td>Saverio Marconi</td>\n",
       "      <td>actor</td>\n",
       "      <td>Giancarlo</td>\n",
       "      <td>NaN</td>\n",
       "    </tr>\n",
       "    <tr>\n",
       "      <th>2969197</th>\n",
       "      <td>Nedtur</td>\n",
       "      <td>1980</td>\n",
       "      <td>Unni L?we</td>\n",
       "      <td>actress</td>\n",
       "      <td>Kim</td>\n",
       "      <td>NaN</td>\n",
       "    </tr>\n",
       "    <tr>\n",
       "      <th>1857002</th>\n",
       "      <td>Lastu Shaytanan Wala Malakan</td>\n",
       "      <td>1980</td>\n",
       "      <td>Ahmed Salama</td>\n",
       "      <td>actor</td>\n",
       "      <td>Kawthar's Brother</td>\n",
       "      <td>NaN</td>\n",
       "    </tr>\n",
       "    <tr>\n",
       "      <th>2797486</th>\n",
       "      <td>Airplane!</td>\n",
       "      <td>1980</td>\n",
       "      <td>Leslie Hoffman</td>\n",
       "      <td>actress</td>\n",
       "      <td>Passenger in Terminal</td>\n",
       "      <td>NaN</td>\n",
       "    </tr>\n",
       "    <tr>\n",
       "      <th>2797488</th>\n",
       "      <td>The Nude Bomb</td>\n",
       "      <td>1980</td>\n",
       "      <td>Leslie Hoffman</td>\n",
       "      <td>actress</td>\n",
       "      <td>Hospital Patient</td>\n",
       "      <td>NaN</td>\n",
       "    </tr>\n",
       "    <tr>\n",
       "      <th>2318004</th>\n",
       "      <td>Pray TV</td>\n",
       "      <td>1980</td>\n",
       "      <td>Dick Yarmy</td>\n",
       "      <td>actor</td>\n",
       "      <td>Dr. Ben Gay</td>\n",
       "      <td>NaN</td>\n",
       "    </tr>\n",
       "    <tr>\n",
       "      <th>3044577</th>\n",
       "      <td>Times Square</td>\n",
       "      <td>1980</td>\n",
       "      <td>Sharon Mitchell</td>\n",
       "      <td>actress</td>\n",
       "      <td>Audience Member in Nightclub</td>\n",
       "      <td>NaN</td>\n",
       "    </tr>\n",
       "    <tr>\n",
       "      <th>1747466</th>\n",
       "      <td>Salto nel vuoto</td>\n",
       "      <td>1980</td>\n",
       "      <td>Mario Ravas</td>\n",
       "      <td>actor</td>\n",
       "      <td>Brother of Suicide</td>\n",
       "      <td>NaN</td>\n",
       "    </tr>\n",
       "    <tr>\n",
       "      <th>2969422</th>\n",
       "      <td>Shanhu dao shang de shi guang</td>\n",
       "      <td>1980</td>\n",
       "      <td>Junqin Ma</td>\n",
       "      <td>actress</td>\n",
       "      <td>Meng Na</td>\n",
       "      <td>NaN</td>\n",
       "    </tr>\n",
       "    <tr>\n",
       "      <th>1616935</th>\n",
       "      <td>Thomas Hearns vs. Pipino Cuevas</td>\n",
       "      <td>1980</td>\n",
       "      <td>Harry Papacaralambolous</td>\n",
       "      <td>actor</td>\n",
       "      <td>Himself - Referee</td>\n",
       "      <td>NaN</td>\n",
       "    </tr>\n",
       "    <tr>\n",
       "      <th>977879</th>\n",
       "      <td>Heaven's Gate</td>\n",
       "      <td>1980</td>\n",
       "      <td>Lincoln Hurst</td>\n",
       "      <td>actor</td>\n",
       "      <td>Harvard Undergraduate</td>\n",
       "      <td>NaN</td>\n",
       "    </tr>\n",
       "    <tr>\n",
       "      <th>1278277</th>\n",
       "      <td>Bad Timing</td>\n",
       "      <td>1980</td>\n",
       "      <td>Carl Lawrence Ludwig</td>\n",
       "      <td>actor</td>\n",
       "      <td>Young Czech Lover</td>\n",
       "      <td>NaN</td>\n",
       "    </tr>\n",
       "    <tr>\n",
       "      <th>1278306</th>\n",
       "      <td>Johann Sebastian Bachs vergebliche Reise in de...</td>\n",
       "      <td>1980</td>\n",
       "      <td>Fred Ludwig</td>\n",
       "      <td>actor</td>\n",
       "      <td>Wunderdoktor</td>\n",
       "      <td>NaN</td>\n",
       "    </tr>\n",
       "    <tr>\n",
       "      <th>2969388</th>\n",
       "      <td>Han jian gu xing duan chang hua</td>\n",
       "      <td>1980</td>\n",
       "      <td>Chia-hua Ma</td>\n",
       "      <td>actress</td>\n",
       "      <td>Ah-Chen</td>\n",
       "      <td>NaN</td>\n",
       "    </tr>\n",
       "    <tr>\n",
       "      <th>1951271</th>\n",
       "      <td>The Baltimore Bullet</td>\n",
       "      <td>1980</td>\n",
       "      <td>Michael Sigel</td>\n",
       "      <td>actor</td>\n",
       "      <td>Himself - Pool Player</td>\n",
       "      <td>NaN</td>\n",
       "    </tr>\n",
       "    <tr>\n",
       "      <th>1616892</th>\n",
       "      <td>Cannibal Holocaust</td>\n",
       "      <td>1980</td>\n",
       "      <td>Enrico Papa</td>\n",
       "      <td>actor</td>\n",
       "      <td>Pantheon Interviewer</td>\n",
       "      <td>NaN</td>\n",
       "    </tr>\n",
       "    <tr>\n",
       "      <th>2573331</th>\n",
       "      <td>Luda kuca</td>\n",
       "      <td>1980</td>\n",
       "      <td>Antonia Cutic</td>\n",
       "      <td>actress</td>\n",
       "      <td>Ankica</td>\n",
       "      <td>NaN</td>\n",
       "    </tr>\n",
       "    <tr>\n",
       "      <th>1857110</th>\n",
       "      <td>Lion of the Desert</td>\n",
       "      <td>1980</td>\n",
       "      <td>Amedeo Salamon</td>\n",
       "      <td>actor</td>\n",
       "      <td>Man watching the trail</td>\n",
       "      <td>NaN</td>\n",
       "    </tr>\n",
       "    <tr>\n",
       "      <th>2046606</th>\n",
       "      <td>Jazbaat</td>\n",
       "      <td>1980</td>\n",
       "      <td>Subbiraj</td>\n",
       "      <td>actor</td>\n",
       "      <td>Ram Mohan</td>\n",
       "      <td>NaN</td>\n",
       "    </tr>\n",
       "    <tr>\n",
       "      <th>1857100</th>\n",
       "      <td>Il bandito dagli occhi azzurri</td>\n",
       "      <td>1980</td>\n",
       "      <td>Amedeo Salamon</td>\n",
       "      <td>actor</td>\n",
       "      <td>Passerby</td>\n",
       "      <td>NaN</td>\n",
       "    </tr>\n",
       "  </tbody>\n",
       "</table>\n",
       "<p>431053 rows × 6 columns</p>\n",
       "</div>"
      ],
      "text/plain": [
       "                                                     title  year  \\\n",
       "447750                                          Miss Jerry  1894   \n",
       "2422869                                         Miss Jerry  1894   \n",
       "535668                                          Miss Jerry  1894   \n",
       "1656217                              Soldiers of the Cross  1900   \n",
       "1656368                              Soldiers of the Cross  1900   \n",
       "579160                                             Valsons  1905   \n",
       "457881                         The Story of the Kelly Gang  1906   \n",
       "2069179                        The Story of the Kelly Gang  1906   \n",
       "2069178                        The Story of the Kelly Gang  1906   \n",
       "1393719                        The Story of the Kelly Gang  1906   \n",
       "451721                         The Story of the Kelly Gang  1906   \n",
       "628644                         The Story of the Kelly Gang  1906   \n",
       "1440134                        The Story of the Kelly Gang  1906   \n",
       "696257                         The Story of the Kelly Gang  1906   \n",
       "1341290                        The Story of the Kelly Gang  1906   \n",
       "311775                         The Story of the Kelly Gang  1906   \n",
       "3082285                                             Amleto  1908   \n",
       "773217                      The Fairylogue and Radio-Plays  1908   \n",
       "1530411                                  Gans-Nelson Fight  1908   \n",
       "738980                                   Gans-Nelson Fight  1908   \n",
       "2932607                     The Fairylogue and Radio-Plays  1908   \n",
       "2746531                                        Os Guaranis  1908   \n",
       "1583855                                        Os Guaranis  1908   \n",
       "287521   World's Heavyweight Championship Between Tommy...  1909   \n",
       "1036384  World's Heavyweight Championship Between Tommy...  1909   \n",
       "727410                                         Kapergasten  1910   \n",
       "727404                                       Ansigttyven I  1910   \n",
       "1696787                                   En rekrut fra 64  1910   \n",
       "2613202                              Den hvide slavehandel  1910   \n",
       "1827673                            The Squatter's Daughter  1910   \n",
       "...                                                    ...   ...   \n",
       "2752352                                 Taynoe golosovanie  1980   \n",
       "604814                                        Bronco Billy  1980   \n",
       "1078015                         Climax! okasareru hanayome  1980   \n",
       "3105688                  Kairaku gakuen: kinjirareta asobi  1980   \n",
       "2151415                                       Za spichkami  1980   \n",
       "1078086                                O Convite ao Prazer  1980   \n",
       "1747481                                            Vrijdag  1980   \n",
       "425522                                  The Mirror Crack'd  1980   \n",
       "1617089                               Gefsi apo... Ellada!  1980   \n",
       "445240                                   Apocalypse domani  1980   \n",
       "1330427                                    Voltati Eugenio  1980   \n",
       "2969197                                             Nedtur  1980   \n",
       "1857002                       Lastu Shaytanan Wala Malakan  1980   \n",
       "2797486                                          Airplane!  1980   \n",
       "2797488                                      The Nude Bomb  1980   \n",
       "2318004                                            Pray TV  1980   \n",
       "3044577                                       Times Square  1980   \n",
       "1747466                                    Salto nel vuoto  1980   \n",
       "2969422                      Shanhu dao shang de shi guang  1980   \n",
       "1616935                    Thomas Hearns vs. Pipino Cuevas  1980   \n",
       "977879                                       Heaven's Gate  1980   \n",
       "1278277                                         Bad Timing  1980   \n",
       "1278306  Johann Sebastian Bachs vergebliche Reise in de...  1980   \n",
       "2969388                    Han jian gu xing duan chang hua  1980   \n",
       "1951271                               The Baltimore Bullet  1980   \n",
       "1616892                                 Cannibal Holocaust  1980   \n",
       "2573331                                          Luda kuca  1980   \n",
       "1857110                                 Lion of the Desert  1980   \n",
       "2046606                                            Jazbaat  1980   \n",
       "1857100                     Il bandito dagli occhi azzurri  1980   \n",
       "\n",
       "                            name     type  \\\n",
       "447750         William Courtenay    actor   \n",
       "2422869          Blanche Bayliss  actress   \n",
       "535668            Chauncey Depew    actor   \n",
       "1656217              Orrie Perry    actor   \n",
       "1656368                Reg Perry    actor   \n",
       "579160             Armand Dranem    actor   \n",
       "457881                Sam Crewes    actor   \n",
       "2069179               Frank Tait    actor   \n",
       "2069178                E.J. Tait    actor   \n",
       "1393719             Mr. McKenzie    actor   \n",
       "451721                Will Coyne    actor   \n",
       "628644           Jack (II) Ennis    actor   \n",
       "1440134         Frank (VI) Mills    actor   \n",
       "696257          John (III) Forde    actor   \n",
       "1341290             Mr. Marshall    actor   \n",
       "311775      Norman (II) Campbell    actor   \n",
       "3082285    Fernanda Negri Pouget  actress   \n",
       "773217    William (IV) Gillespie    actor   \n",
       "1530411          Battling Nelson    actor   \n",
       "738980                  Joe Gans    actor   \n",
       "2932607         Delilah Leitzell  actress   \n",
       "2746531             Inez Grizeta  actress   \n",
       "1583855        Benjamin Oliveira    actor   \n",
       "287521          Tommy (IV) Burns    actor   \n",
       "1036384      Jack (VIII) Johnson    actor   \n",
       "727410                Aage F?nss    actor   \n",
       "727404                Aage F?nss    actor   \n",
       "1696787     Vilhelm Poss-Nielsen    actor   \n",
       "2613202           Ellen Diedrich  actress   \n",
       "1827673              C. Rossmore    actor   \n",
       "...                          ...      ...   \n",
       "2752352            Liliya Gurova  actress   \n",
       "604814             Kyle Eastwood    actor   \n",
       "1078015               Daiki Kato    actor   \n",
       "3105688              Asami Ogawa  actress   \n",
       "2151415             Yrj? T?htel?    actor   \n",
       "1078086              Sergio Kato    actor   \n",
       "1747481             Roger Raveel    actor   \n",
       "425522                Les Conrad    actor   \n",
       "1617089    Georgios Papadopoulos    actor   \n",
       "445240             Paul Costello    actor   \n",
       "1330427          Saverio Marconi    actor   \n",
       "2969197                Unni L?we  actress   \n",
       "1857002             Ahmed Salama    actor   \n",
       "2797486           Leslie Hoffman  actress   \n",
       "2797488           Leslie Hoffman  actress   \n",
       "2318004               Dick Yarmy    actor   \n",
       "3044577          Sharon Mitchell  actress   \n",
       "1747466              Mario Ravas    actor   \n",
       "2969422                Junqin Ma  actress   \n",
       "1616935  Harry Papacaralambolous    actor   \n",
       "977879             Lincoln Hurst    actor   \n",
       "1278277     Carl Lawrence Ludwig    actor   \n",
       "1278306              Fred Ludwig    actor   \n",
       "2969388              Chia-hua Ma  actress   \n",
       "1951271            Michael Sigel    actor   \n",
       "1616892              Enrico Papa    actor   \n",
       "2573331            Antonia Cutic  actress   \n",
       "1857110           Amedeo Salamon    actor   \n",
       "2046606                 Subbiraj    actor   \n",
       "1857100           Amedeo Salamon    actor   \n",
       "\n",
       "                                                 character   n  \n",
       "447750                                        Mr. Hamilton NaN  \n",
       "2422869               Miss Geraldine Holbrook (Miss Jerry) NaN  \n",
       "535668   Himself - the Director of the New York Central... NaN  \n",
       "1656217                                               Lion NaN  \n",
       "1656368                                               Lion NaN  \n",
       "579160                                             Himself NaN  \n",
       "457881                                           Dan Kelly NaN  \n",
       "2069179                                              Extra NaN  \n",
       "2069178                                              Extra NaN  \n",
       "1393719                                         Steve Hart NaN  \n",
       "451721                                           Joe Byrne NaN  \n",
       "628644                                          Steve Hart NaN  \n",
       "1440134                                          Ned Kelly NaN  \n",
       "696257                                           Dan Kelly NaN  \n",
       "1341290                                          Dan Kelly NaN  \n",
       "311775                                          Steve Hart NaN  \n",
       "3082285                                             Ofelia NaN  \n",
       "773217                                                 Tip NaN  \n",
       "1530411                                            Himself NaN  \n",
       "738980                                             Himself NaN  \n",
       "2932607                                               Ozma NaN  \n",
       "2746531                                               Ceci NaN  \n",
       "1583855                                               Peri NaN  \n",
       "287521                                             Himself NaN  \n",
       "1036384                                            Himself NaN  \n",
       "727410                                       Landsforr?der NaN  \n",
       "727404                                               R?ret NaN  \n",
       "1696787                                             Farmer NaN  \n",
       "2613202                                               Anna NaN  \n",
       "1827673                          Member of Ben Hall's Gang NaN  \n",
       "...                                                    ...  ..  \n",
       "2752352                                             Polina NaN  \n",
       "604814                                              Orphan NaN  \n",
       "1078015                                      Kenji Kataoka NaN  \n",
       "3105688                                              Maria NaN  \n",
       "2151415                                   Poliisip??llikk? NaN  \n",
       "1078086                                           Castilho NaN  \n",
       "1747481                                          Bijtebier NaN  \n",
       "425522                                         Party Guest NaN  \n",
       "1617089                                            Himself NaN  \n",
       "445240                                          Newscaster NaN  \n",
       "1330427                                          Giancarlo NaN  \n",
       "2969197                                                Kim NaN  \n",
       "1857002                                  Kawthar's Brother NaN  \n",
       "2797486                              Passenger in Terminal NaN  \n",
       "2797488                                   Hospital Patient NaN  \n",
       "2318004                                        Dr. Ben Gay NaN  \n",
       "3044577                       Audience Member in Nightclub NaN  \n",
       "1747466                                 Brother of Suicide NaN  \n",
       "2969422                                            Meng Na NaN  \n",
       "1616935                                  Himself - Referee NaN  \n",
       "977879                               Harvard Undergraduate NaN  \n",
       "1278277                                  Young Czech Lover NaN  \n",
       "1278306                                       Wunderdoktor NaN  \n",
       "2969388                                            Ah-Chen NaN  \n",
       "1951271                              Himself - Pool Player NaN  \n",
       "1616892                               Pantheon Interviewer NaN  \n",
       "2573331                                             Ankica NaN  \n",
       "1857110                             Man watching the trail NaN  \n",
       "2046606                                          Ram Mohan NaN  \n",
       "1857100                                           Passerby NaN  \n",
       "\n",
       "[431053 rows x 6 columns]"
      ]
     },
     "execution_count": 400,
     "metadata": {},
     "output_type": "execute_result"
    }
   ],
   "source": [
    "minorRoles = c[(c.year <= 1980)].sort_values('year')\n",
    "countMinor = minorRoles[minorRoles.n.isnull()]\n",
    "countMinor"
   ]
  },
  {
   "cell_type": "code",
   "execution_count": 402,
   "metadata": {
    "collapsed": false
   },
   "outputs": [
    {
     "data": {
      "text/plain": [
       "title        431053\n",
       "year         431053\n",
       "name         431053\n",
       "type         431053\n",
       "character    431053\n",
       "n                 0\n",
       "dtype: int64"
      ]
     },
     "execution_count": 402,
     "metadata": {},
     "output_type": "execute_result"
    }
   ],
   "source": [
    "countMinor.count()\n"
   ]
  },
  {
   "cell_type": "code",
   "execution_count": null,
   "metadata": {
    "collapsed": true
   },
   "outputs": [],
   "source": []
  }
 ],
 "metadata": {
  "kernelspec": {
   "display_name": "Python 3",
   "language": "python",
   "name": "python3"
  },
  "language_info": {
   "codemirror_mode": {
    "name": "ipython",
    "version": 3
   },
   "file_extension": ".py",
   "mimetype": "text/x-python",
   "name": "python",
   "nbconvert_exporter": "python",
   "pygments_lexer": "ipython3",
   "version": "3.5.1"
  }
 },
 "nbformat": 4,
 "nbformat_minor": 0
}
